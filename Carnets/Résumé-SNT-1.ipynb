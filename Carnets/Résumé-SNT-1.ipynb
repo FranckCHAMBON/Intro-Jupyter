{
 "cells": [
  {
   "cell_type": "markdown",
   "metadata": {},
   "source": [
    "# SNT\n",
    "\n",
    "## Les données numériques"
   ]
  },
  {
   "cell_type": "markdown",
   "metadata": {},
   "source": [
    "### bit et octet\n",
    "Le matériel informatique travaille avec, fondamentallement, de l'électricité qui passe dans des circuits... ou non. Un état binaire n'a que deux états : 0 ou 1, Vrai ou Faux, ouvert ou fermé, ...\n",
    "> En multipliant les combinaisons on peut avoir, par exemple :\n",
    ">> 000, 001, 010, 011, 100, 101, 110, 111 comme possibilités pour 3 états binaires associés, il y en a $2^3 = 8$.\n",
    ">>> À chaque état binaire supplémentaire, on double les possibilités.\n",
    "\n",
    "Une donnée numérique (ou numérisée) est une information transformée en nombres, et qui peut donc être transmise, travaillée, étudiée par un ordinateur.\n",
    "\n",
    "Des exemples de données numériques :\n",
    "* nombre : un prix, un numéro de commande, des coordonnées GPS, ...\n",
    "* texte : un identifiant, un mot de passe, une page web (oui, c'est du texte), un livre, un programme de code, ...\n",
    "* image : une photo numérisée, un dessin vectoriel ou matriciel, ...\n",
    "* son : numérisé, il peut être compressé, avec ou sans perte, ou bien être descriptif, ...\n",
    "* vidéo : numérisée, cela constitue un volume de donnée **très** important, ...\n",
    "\n",
    "> Parmi les données, il y a des **données personnelles**, dont il faut veiller au contrôle et évi\n",
    "\n",
    "La donnée numérique élémentaire est le **bit** (_**bi**nary digi**t**_) : qui possède deux valeurs :\n",
    "* 0, _False_, ou Faux\n",
    "* 1, _True_, ou Vrai\n",
    "\n",
    "On la trouve dans les disques durs, la mémoire vive, les disques optiques, partout en informatique.\n",
    "\n",
    "Dans un ordinateur, les bits sont toujours stockés par paquets de 8bits au minimum, ce qui définit un **octet**.\n",
    "> 1 octet = 8 bits\n",
    "\n",
    "Un octet permet de coder $2^8 = 256$ possibilités. Comme par exemple :\n",
    "* un nombre entiers entre $0$ et $255$, ou bien entre $-128$ et $127$,\n",
    "* un caractère simple (ou une ponctuation) pour écrire en anglais,\n",
    "* un niveau de couleur entre 0 et 255, pour une image.\n",
    "\n",
    "Avec plusieurs octets on peut stocker ou transmettre des données numériques. Plus une donnée est importante, plus son poids est grand.\n",
    "* un entier positif inférieur à un milliard peut être stocké sur 4 octets ou 32 bits.\n",
    "* un texte de 1000 caratère aura un poids de 1 ko (1 kilo-octet).\n",
    "\n",
    "Unités et préfixes :\n",
    "* 1000 o  = 1 ko (kilo-octet) ; _on remarque que_ k _est en minuscule_.\n",
    "* 1000 ko = 1 Mo (méga-octet) ;\n",
    "* 1000 Mo = 1 Go (giga-octet) ;\n",
    "* 1000 Go = 1 To (téra-octet) ;\n",
    "* 1000 To = 1 Po (péta-octet) ;\n",
    "\n",
    "Attention, en anglais il y a\n",
    "* b pour _bit_, l'unité fondamentale\n",
    "* B pour _byte_ (un octet = 8 bits) 1 B = 8 b\n",
    "\n",
    "> Il ne faut pas confondre Mb et MB. 1 MB = 8 Mb"
   ]
  },
  {
   "cell_type": "markdown",
   "metadata": {},
   "source": [
    "### Nombre\n",
    "On peut stocker des nombres entiers ou des flottants (les nombres à virgule).\n",
    "\n",
    "On peut coder 256 possibilités différentes sur un octet, donc "
   ]
  },
  {
   "cell_type": "markdown",
   "metadata": {},
   "source": [
    "### Texte\n",
    "Pour stocker un texte en anglais (alphabet simple), avec majuscules, minuscules, chiffres et ponctuation, il suffit d'avoir à coder moins de 128 caractères. Ce qui a donné naissance à l'ASCII, codé sur 7 bits.\n",
    "\n",
    "Sur un octet (256 possibilités), on peut donc, au choix, coder un caractère ASCII, ou bien un caractère parmi 128 autres possibilités.\n",
    "Pendant plusieurs années cette solution a permis d'avoir accès à des caractères variés pour les langues qui en ont besoin. Chaque pays/langue ayant des besoins spécifiques, il y a eu de nombreuses variantes d'encodage de caractères.\n",
    "\n",
    "> le français a longtemps utilisé un codage appelé `latin-1` qui donne accès à plusieurs lettres accentuées absentes de l'ASCII.\n",
    "\n",
    "Les problèmes de ce système sont, entre autres :\n",
    "* un nombre limité de caractères par langue ; or certaines langues en ont beaucoup plus que 256.\n",
    "* impossibilité de créer un document ayant des caractères de plusieurs langues.\n",
    "\n",
    "D'autres systèmes ont été mis en place, le plus répendu actuellement est `utf8`. Ce sytème d'encodage à longueur variable permet d'utiliser un octet (ou plusieurs suivant le cas) pour coder tous les caractères de toutes les langues connues.\n",
    "\n",
    "> Attention, dans le cas d'un fichier encodé en `utf8`, le nombre de caractères est inférieur ou égal au nombre d'octets du fichier. En effet, certains caractères prennent plus d'un octet en mémoire."
   ]
  },
  {
   "cell_type": "markdown",
   "metadata": {},
   "source": [
    "### Images\n",
    "Commençons par voir comment stocker une image de manière basique. Ensuite, "
   ]
  },
  {
   "cell_type": "code",
   "execution_count": null,
   "metadata": {
    "collapsed": false,
    "jupyter": {
     "outputs_hidden": false
    }
   },
   "outputs": [],
   "source": []
  }
 ],
 "metadata": {
  "kernelspec": {
   "display_name": "Python 3",
   "language": "python",
   "name": "python3"
  },
  "language_info": {
   "codemirror_mode": {
    "name": "ipython",
    "version": 3
   },
   "file_extension": ".py",
   "mimetype": "text/x-python",
   "name": "python",
   "nbconvert_exporter": "python",
   "pygments_lexer": "ipython3",
   "version": "3.7.5"
  }
 },
 "nbformat": 4,
 "nbformat_minor": 4
}
