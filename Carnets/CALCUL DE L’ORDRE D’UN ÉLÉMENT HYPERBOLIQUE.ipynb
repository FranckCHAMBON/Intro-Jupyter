{
 "cells": [
  {
   "cell_type": "markdown",
   "metadata": {
    "collapsed": false
   },
   "source": [
    "# Calcul de l'ordre d'un élément hyperbolique dans $SL_2(\\mathbb F_p)$\n",
    "Par FRÉDÉRIC NAUD\n",
    "\n",
    "---\n",
    "\n",
    "On fixe $M$ hyperbolique, par exemple\n",
    "$$M = \\begin{pmatrix}2 & 1\\\\\\ 1 & 1\\end{pmatrix}$$\n",
    "Calculer numériquement la suite des $N_p(M)$ et étudier son ordre de croissance.\n",
    "\n",
    "$$\\frac{\\log(x)}x \\sum\\limits_{p\\leq x}\\frac{\\log(N_p(M))}{\\log(p)}$$"
   ]
  },
  {
   "cell_type": "code",
   "execution_count": 21,
   "metadata": {
    "collapsed": false
   },
   "outputs": [
    {
     "name": "stdout",
     "output_type": "stream",
     "text": [
      "4 0.000000000000000\n",
      "8 0.327995384864578\n",
      "16 0.465758109157829\n",
      "32 0.337487405305025\n",
      "64 0.417883985359733\n",
      "128 0.488166869531865\n",
      "256 0.502986001516299\n"
     ]
    },
    {
     "name": "stdout",
     "output_type": "stream",
     "text": [
      "512 0.534745987947321\n"
     ]
    },
    {
     "name": "stdout",
     "output_type": "stream",
     "text": [
      "1024 0.551399990010795\n"
     ]
    },
    {
     "name": "stdout",
     "output_type": "stream",
     "text": [
      "2048 0.546037538140946\n"
     ]
    },
    {
     "name": "stdout",
     "output_type": "stream",
     "text": [
      "4096 0.540211983262770\n"
     ]
    },
    {
     "name": "stdout",
     "output_type": "stream",
     "text": [
      "8192 0.542196468013233\n"
     ]
    },
    {
     "name": "stdout",
     "output_type": "stream",
     "text": [
      "16384 0.538883264965806\n"
     ]
    },
    {
     "name": "stdout",
     "output_type": "stream",
     "text": [
      "32768 0.538265451443223\n"
     ]
    },
    {
     "name": "stdout",
     "output_type": "stream",
     "text": [
      "65536 0.536098640514680\n"
     ]
    },
    {
     "name": "stdout",
     "output_type": "stream",
     "text": [
      "131072 0.534470790413764\n"
     ]
    }
   ],
   "source": [
    "A = matrix(ZZ, 2, 2, [13, 10, 100, 77])\n",
    "# tu peux modifier la matrice, le code en dessous s'adapte !\n",
    "\n",
    "##############################################################\n",
    "\n",
    "assert det(A) == 1\n",
    "traceA = A.trace()\n",
    "delta = traceA**2 - 4\n",
    "\n",
    "S = 0  # ta somme partielle, initialisée à zéro\n",
    "x = 2  # ta limite x\n",
    "\n",
    "DIRECT = False\n",
    "# pour chosir ta méthode de calcul\n",
    "\n",
    "for p in Primes():\n",
    "    # on itère sur tous les nombres premiers\n",
    "    if p>x:\n",
    "        x*=2\n",
    "        print(x, n( S * log(x) /x ) )\n",
    "        # pour un affichage de ta moyenne, pour tout x puissance de 2\n",
    "        if x>100000: break\n",
    "\n",
    "    if p==2 or p==delta:\n",
    "        continue\n",
    "        # pour éviter les bug p==2 ou delta, on zappe ces cas là\n",
    "\n",
    "    if DIRECT:\n",
    "        # méthode directe ; brutale\n",
    "        M = matrix(GF(p), 2, 2, A) # ta matrice dans Fp\n",
    "        N = M.multiplicative_order()       # l'odre que tu cherches\n",
    "    else:\n",
    "        # variante plus rapide :\n",
    "        r = ( mod(delta, p).sqrt() + traceA )/2 # une des deux valeur propre\n",
    "        # r est dans une extension quadratique, ou non, on s'en moque\n",
    "        N = r.multiplicative_order()\n",
    "        # N est calculé dans tous les cas correctement\n",
    "\n",
    "    S += n( log(N)/log(p) )\n",
    "    # ta somme cumulée est mise à jour\n",
    "    # le 'n', c'est pour une évaluation *N*umérique approchée,\n",
    "    # sinon Sage fait tout en valeur exacte...\n"
   ]
  },
  {
   "cell_type": "markdown",
   "metadata": {
    "collapsed": false
   },
   "source": [
    "## Quel code pour avoir un résultat rapide et simple ?\n",
    "\n",
    "Ce code te permet de voir les sauts de N par rapport à p±1"
   ]
  },
  {
   "cell_type": "code",
   "execution_count": 25,
   "metadata": {
    "collapsed": false
   },
   "outputs": [
    {
     "name": "stdout",
     "output_type": "stream",
     "text": [
      "(8101, 'RQ', 1)\n",
      "(8111, 'NR', 6)\n",
      "(8117, 'NR', 3)\n",
      "(8123, 'NR', 3)\n",
      "(8147, 'NR', 12)\n",
      "(8161, 'RQ', 3)\n",
      "(8167, 'RQ', 1)\n",
      "(8171, 'NR', 3)\n",
      "(8179, 'NR', 2)\n",
      "(8191, 'NR', 1)\n",
      "(8209, 'NR', 1)\n",
      "(8219, 'RQ', 1)\n",
      "(8221, 'RQ', 5)\n",
      "(8231, 'NR', 2)\n",
      "(8233, 'NR', 1)\n",
      "(8237, 'NR', 2)\n",
      "(8243, 'NR', 9)\n",
      "(8263, 'NR', 1)\n",
      "(8269, 'RQ', 6)\n",
      "(8273, 'RQ', 4)\n",
      "(8287, 'NR', 4)\n",
      "(8291, 'NR', 2)\n",
      "(8293, 'RQ', 4)\n",
      "(8297, 'NR', 9)\n",
      "(8311, 'NR', 1)\n",
      "(8317, 'RQ', 1)\n",
      "(8329, 'NR', 10)\n",
      "(8353, 'RQ', 2)\n",
      "(8363, 'RQ', 74)\n",
      "(8369, 'NR', 3)\n",
      "(8377, 'RQ', 1)\n",
      "(8387, 'RQ', 2)\n",
      "(8389, 'NR', 1)\n",
      "(8419, 'NR', 5)\n",
      "(8423, 'RQ', 2)\n",
      "(8429, 'RQ', 1)\n",
      "(8431, 'RQ', 1)\n",
      "(8443, 'RQ', 7)\n",
      "(8447, 'NR', 3)\n",
      "(8461, 'NR', 1)\n",
      "(8467, 'RQ', 3)\n"
     ]
    },
    {
     "name": "stdout",
     "output_type": "stream",
     "text": [
      "(8501, 'RQ', 1)\n",
      "(8513, 'NR', 18)\n",
      "(8521, 'RQ', 3)\n",
      "(8527, 'RQ', 2)\n",
      "(8537, 'RQ', 4)\n",
      "(8539, 'NR', 1)\n",
      "(8543, 'RQ', 2)\n",
      "(8563, 'RQ', 6)\n",
      "(8573, 'RQ', 1)\n",
      "(8581, 'NR', 2)\n",
      "(8597, 'RQ', 14)\n",
      "(8599, 'RQ', 6)\n",
      "(8609, 'RQ', 1)\n",
      "(8623, 'RQ', 2)\n",
      "(8627, 'NR', 1)\n",
      "(8629, 'NR', 2)\n",
      "(8641, 'NR', 2)\n",
      "(8647, 'NR', 2)\n",
      "(8663, 'RQ', 2)\n",
      "(8669, 'RQ', 1)\n",
      "(8677, 'NR', 2)\n",
      "(8681, 'RQ', 1)\n",
      "(8689, 'NR', 2)\n",
      "(8693, 'RQ', 1)\n",
      "(8699, 'RQ', 2)\n",
      "(8707, 'RQ', 1)\n",
      "(8713, 'NR', 1)\n",
      "(8719, 'NR', 1)\n",
      "(8731, 'NR', 4)\n",
      "(8737, 'NR', 1)\n",
      "(8741, 'RQ', 4)\n",
      "(8747, 'NR', 2)\n",
      "(8753, 'NR', 6)\n",
      "(8761, 'NR', 1)\n"
     ]
    },
    {
     "name": "stdout",
     "output_type": "stream",
     "text": [
      "(8779, 'NR', 1)\n",
      "(8783, 'NR', 2)\n",
      "(8803, 'RQ', 2)\n",
      "(8807, 'RQ', 2)\n",
      "(8819, 'NR', 4)\n",
      "(8821, 'RQ', 2)\n",
      "(8831, 'NR', 32)\n",
      "(8837, 'RQ', 1)\n",
      "(8839, 'RQ', 2)\n",
      "(8849, 'NR', 5)\n",
      "(8861, 'RQ', 10)\n",
      "(8863, 'NR', 1)\n",
      "(8867, 'NR', 1)\n",
      "(8887, 'NR', 1)\n",
      "(8893, 'RQ', 1)\n",
      "(8923, 'NR', 2)\n",
      "(8929, 'RQ', 1)\n",
      "(8933, 'NR', 6)\n",
      "(8941, 'RQ', 1)\n",
      "(8951, 'NR', 3)\n",
      "(8963, 'NR', 3)\n"
     ]
    },
    {
     "name": "stdout",
     "output_type": "stream",
     "text": [
      "(8969, 'NR', 1)\n",
      "(8971, 'RQ', 15)\n",
      "(8999, 'RQ', 11)\n",
      "(9001, 'RQ', 2)\n",
      "(9007, 'NR', 8)\n",
      "(9011, 'RQ', 1)\n",
      "(9013, 'RQ', 3)\n",
      "(9029, 'NR', 2)\n",
      "(9041, 'NR', 2)\n",
      "(9043, 'NR', 1)\n",
      "(9049, 'RQ', 3)\n",
      "(9059, 'NR', 4)\n",
      "(9067, 'RQ', 2)\n",
      "(9091, 'NR', 1)\n",
      "(9103, 'NR', 1)\n",
      "(9109, 'NR', 2)\n",
      "(9127, 'RQ', 2)\n",
      "(9133, 'NR', 2)\n",
      "(9137, 'NR', 2)\n",
      "(9151, 'RQ', 2)\n",
      "(9157, 'NR', 2)\n",
      "(9161, 'NR', 1)\n",
      "(9173, 'NR', 1)\n",
      "(9181, 'RQ', 4)\n",
      "(9187, 'NR', 2)\n"
     ]
    },
    {
     "name": "stdout",
     "output_type": "stream",
     "text": [
      "(9199, 'NR', 100)\n",
      "(9203, 'RQ', 1)\n",
      "(9209, 'NR', 6)\n",
      "(9221, 'RQ', 5)\n",
      "(9227, 'NR', 3)\n",
      "(9239, 'NR', 11)\n",
      "(9241, 'RQ', 28)\n",
      "(9257, 'RQ', 1)\n",
      "(9277, 'NR', 2)\n",
      "(9281, 'NR', 78)\n",
      "(9283, 'NR', 2)\n",
      "(9293, 'NR', 2)\n",
      "(9311, 'NR', 16)\n",
      "(9319, 'NR', 1)\n",
      "(9323, 'RQ', 1)\n",
      "(9337, 'NR', 1)\n",
      "(9341, 'RQ', 4)\n",
      "(9343, 'NR', 2)\n",
      "(9349, 'NR', 1)\n",
      "(9371, 'NR', 6)\n",
      "(9377, 'RQ', 8)\n",
      "(9391, 'RQ', 6)\n"
     ]
    },
    {
     "name": "stdout",
     "output_type": "stream",
     "text": [
      "(9397, 'NR', 2)\n",
      "(9403, 'RQ', 2)\n",
      "(9413, 'RQ', 4)\n",
      "(9419, 'NR', 3)\n",
      "(9421, 'RQ', 3)\n",
      "(9431, 'RQ', 1)\n",
      "(9433, 'NR', 2)\n",
      "(9437, 'NR', 1)\n",
      "(9439, 'RQ', 3)\n",
      "(9461, 'NR', 2)\n",
      "(9463, 'NR', 2)\n",
      "(9467, 'NR', 2)\n",
      "(9473, 'RQ', 1)\n",
      "(9479, 'NR', 5)\n",
      "(9491, 'RQ', 2)\n",
      "(9497, 'NR', 1)\n",
      "(9511, 'NR', 1)\n",
      "(9521, 'RQ', 1)\n",
      "(9533, 'NR', 7)\n",
      "(9539, 'NR', 2)\n",
      "(9547, 'RQ', 1)\n",
      "(9551, 'RQ', 1)\n",
      "(9587, 'NR', 4)\n",
      "(9601, 'NR', 1)\n",
      "(9613, 'NR', 1)\n"
     ]
    },
    {
     "name": "stdout",
     "output_type": "stream",
     "text": [
      "(9619, 'RQ', 14)\n",
      "(9623, 'RQ', 1)\n",
      "(9629, 'RQ', 1)\n",
      "(9631, 'RQ', 10)\n",
      "(9643, 'RQ', 1)\n",
      "(9649, 'NR', 2)\n",
      "(9661, 'NR', 2)\n",
      "(9677, 'NR', 1)\n",
      "(9679, 'RQ', 6)\n",
      "(9689, 'RQ', 4)\n",
      "(9697, 'RQ', 1)\n",
      "(9719, 'NR', 9)\n",
      "(9721, 'RQ', 15)\n",
      "(9733, 'NR', 2)\n",
      "(9739, 'RQ', 6)\n",
      "(9743, 'RQ', 2)\n",
      "(9749, 'RQ', 1)\n",
      "(9767, 'RQ', 2)\n",
      "(9769, 'NR', 1)\n",
      "(9781, 'RQ', 12)\n",
      "(9787, 'RQ', 1)\n",
      "(9791, 'RQ', 5)\n",
      "(9803, 'NR', 12)\n",
      "(9811, 'RQ', 5)\n",
      "(9817, 'NR', 1)\n",
      "(9829, 'RQ', 2)\n",
      "(9833, 'NR', 2)\n",
      "(9839, 'RQ', 1)\n",
      "(9851, 'NR', 2)\n",
      "(9857, 'RQ', 4)"
     ]
    },
    {
     "name": "stdout",
     "output_type": "stream",
     "text": [
      "\n",
      "(9859, 'RQ', 62)\n",
      "(9871, 'RQ', 1)\n",
      "(9883, 'NR', 1)\n",
      "(9887, 'NR', 2)\n",
      "(9901, 'RQ', 33)\n",
      "(9907, 'NR', 2)\n",
      "(9923, 'RQ', 2)\n",
      "(9929, 'NR', 2)\n",
      "(9931, 'NR', 1)\n",
      "(9941, 'NR', 3)\n",
      "(9949, 'NR', 2)\n",
      "(9967, 'RQ', 1)\n",
      "(9973, 'NR', 1)\n"
     ]
    }
   ],
   "source": [
    "A = matrix(ZZ, 2, 2, [13, 10, 100, 77])\n",
    "# Ta matrice, à modifier comme tu veux\n",
    "\n",
    "##########################################\n",
    "\n",
    "assert det(A) == 1\n",
    "# on vérifie juste au cas où\n",
    "\n",
    "traceA = A.trace()\n",
    "delta = traceA**2 - 4\n",
    "\n",
    "for p in primes(delta+1, 10000):\n",
    "    # si tu veux t'arrêter à p < 10000 !!!!\n",
    "\n",
    "    M = matrix(GF(p), 2, 2, A)         # ta matrice dans Fp\n",
    "    N = M.multiplicative_order()       # l'odre que tu cherches\n",
    "    if kronecker(delta, p) == -1:\n",
    "        # ici delta n'est pas un résidu quadratique (NR)\n",
    "        assert (p+1)%N == 0\n",
    "        # on vérifie que N divise p+1\n",
    "        print( (p, \"NR\", (p+1)/N) )\n",
    "    else:\n",
    "        # ici delta est un résidu quadratique (RQ)\n",
    "        assert (p-1)%N == 0, p\n",
    "        # on vérifie que N divise p-1\n",
    "        print( (p, \"RQ\", (p-1)/N) )\n"
   ]
  },
  {
   "cell_type": "code",
   "execution_count": 0,
   "metadata": {
    "collapsed": false
   },
   "outputs": [
   ],
   "source": [
   ]
  }
 ],
 "metadata": {
  "kernelspec": {
   "display_name": "SageMath (Development, Py3)",
   "language": "sagemath",
   "metadata": {
    "cocalc": {
     "description": "Open-source mathematical software system",
     "priority": -1,
     "url": "https://www.sagemath.org/"
    }
   },
   "name": "sage-develop"
  },
  "language_info": {
   "codemirror_mode": {
    "name": "ipython",
    "version": 3
   },
   "file_extension": ".py",
   "mimetype": "text/x-python",
   "name": "python",
   "nbconvert_exporter": "python",
   "pygments_lexer": "ipython3",
   "version": "3.6.6"
  }
 },
 "nbformat": 4,
 "nbformat_minor": 0
}