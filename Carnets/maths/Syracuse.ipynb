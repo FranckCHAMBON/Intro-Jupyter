{
 "cells": [
  {
   "cell_type": "markdown",
   "metadata": {},
   "source": [
    "# La suite de Syracuse\n",
    "## Définition\n",
    "Les suites de Syracuse sont définies par un premier terme $u_0$ et la relation de récurrence :\n",
    "\n",
    "$$u_{n+1} = \\left\\{\n",
    "                \\begin{array}{ll}\n",
    "                  \\dfrac{u_n}2 \\text{ si } u_n \\text{ est pair,}\\\\\n",
    "                  3u_n + 1 \\text{ sinon }\n",
    "                \\end{array}\n",
    "              \\right.$$"
   ]
  },
  {
   "cell_type": "code",
   "execution_count": 2,
   "metadata": {
    "collapsed": false,
    "jupyter": {
     "outputs_hidden": false
    }
   },
   "outputs": [
    {
     "name": "stdout",
     "output_type": "stream",
     "text": [
      "[121, 364, 182, 91, 274, 137, 412, 206, 103, 310, 155, 466, 233, 700, 350, 175, 526, 263, 790, 395, 1186, 593, 1780, 890, 445, 1336, 668, 334, 167, 502, 251, 754, 377, 1132, 566, 283, 850, 425, 1276, 638, 319, 958, 479, 1438, 719, 2158, 1079, 3238, 1619, 4858, 2429, 7288, 3644, 1822, 911, 2734, 1367, 4102, 2051, 6154, 3077, 9232, 4616, 2308, 1154, 577, 1732, 866, 433, 1300, 650, 325, 976, 488, 244, 122, 61, 184, 92, 46, 23, 70, 35, 106, 53, 160, 80, 40, 20, 10, 5, 16, 8, 4, 2, 1, 4, 2, 1, 4]\n"
     ]
    }
   ],
   "source": [
    "def suivant(u):\n",
    "    if u%2 == 0:\n",
    "        return u//2\n",
    "    else:\n",
    "        return 3 * u + 1\n",
    "\n",
    "liste_u = []\n",
    "u = 121# un exemple de premier terme\n",
    "for i in range(100):\n",
    "    liste_u.append(u)\n",
    "    u = suivant(u)\n",
    "print(liste_u)"
   ]
  },
  {
   "cell_type": "markdown",
   "metadata": {},
   "source": [
    "On constate que la suite boucle avec $[4, 2, 1]$.\n",
    "\n",
    "On pourrait faire le même constat avec d'autres valeurs de départ ; même si aucune preuve n'a été trouvée !\n",
    "\n",
    "On définit alors le temps de vol comme la longueur de la suite jusqu'à la première valeur de $1$, et l'altitude maximale comme la valeur maximale atteinte par la suite."
   ]
  },
  {
   "cell_type": "code",
   "execution_count": 4,
   "metadata": {
    "cocalc": {
     "outputs": {
      "0": {
       "name": "input",
       "opts": {
        "password": false,
        "prompt": "Donner un terme initial"
       },
       "output_type": "stream",
       "value": "9876543210"
      }
     }
    },
    "collapsed": false,
    "jupyter": {
     "outputs_hidden": false
    }
   },
   "outputs": [
    {
     "name": "stdout",
     "output_type": "stream",
     "text": [
      "Le temps de vol est : 157\n",
      "L'altitude maximale est 36964\n"
     ]
    }
   ],
   "source": [
    "def suite(u_0):\n",
    "    liste_u = []\n",
    "    u_n = u_0\n",
    "    while u_n != 1:\n",
    "        liste_u.append(u_n)\n",
    "        u_n = suivant(u_n)\n",
    "    liste_u.append(u_n)\n",
    "    return liste_u\n",
    "\n",
    "u_0 = 12321 # Exemple de terme initial\n",
    "liste_u = suite(u_0)\n",
    "print(\"Le temps de vol est :\", len(liste_u))\n",
    "print(\"L'altitude maximale est\", max(liste_u))"
   ]
  },
  {
   "cell_type": "code",
   "execution_count": 5,
   "metadata": {
    "collapsed": false,
    "jupyter": {
     "outputs_hidden": false
    }
   },
   "outputs": [
    {
     "name": "stdout",
     "output_type": "stream",
     "text": [
      "nouveau record : temps de vol 1 pour u_0 = 1\n",
      "nouveau record : altitude 1 pour u_0 = 1\n",
      "nouveau record : temps de vol 2 pour u_0 = 2\n",
      "nouveau record : altitude 2 pour u_0 = 2\n",
      "nouveau record : temps de vol 8 pour u_0 = 3\n",
      "nouveau record : altitude 16 pour u_0 = 3\n",
      "nouveau record : temps de vol 9 pour u_0 = 6\n",
      "nouveau record : temps de vol 17 pour u_0 = 7\n",
      "nouveau record : altitude 52 pour u_0 = 7\n",
      "nouveau record : temps de vol 20 pour u_0 = 9\n",
      "nouveau record : altitude 160 pour u_0 = 15\n",
      "nouveau record : temps de vol 21 pour u_0 = 18\n",
      "nouveau record : temps de vol 24 pour u_0 = 25\n",
      "nouveau record : temps de vol 112 pour u_0 = 27\n",
      "nouveau record : altitude 9232 pour u_0 = 27\n",
      "nouveau record : temps de vol 113 pour u_0 = 54\n",
      "nouveau record : temps de vol 116 pour u_0 = 73\n",
      "nouveau record : temps de vol 119 pour u_0 = 97\n",
      "nouveau record : temps de vol 122 pour u_0 = 129\n",
      "nouveau record : temps de vol 125 pour u_0 = 171\n",
      "nouveau record : temps de vol 128 pour u_0 = 231\n",
      "nouveau record : altitude 13120 pour u_0 = 255\n",
      "nouveau record : temps de vol 131 pour u_0 = 313\n",
      "nouveau record : temps de vol 144 pour u_0 = 327\n",
      "nouveau record : altitude 39364 pour u_0 = 447\n",
      "nouveau record : altitude 41524 pour u_0 = 639\n",
      "nouveau record : temps de vol 145 pour u_0 = 649\n",
      "nouveau record : temps de vol 171 pour u_0 = 703\n",
      "nouveau record : altitude 250504 pour u_0 = 703\n",
      "nouveau record : temps de vol 179 pour u_0 = 871\n",
      "nouveau record : temps de vol 182 pour u_0 = 1161\n",
      "nouveau record : altitude 1276936 pour u_0 = 1819\n",
      "nouveau record : temps de vol 183 pour u_0 = 2223\n",
      "nouveau record : temps de vol 209 pour u_0 = 2463\n",
      "nouveau record : temps de vol 217 pour u_0 = 2919\n",
      "nouveau record : temps de vol 238 pour u_0 = 3711\n",
      "nouveau record : altitude 6810136 pour u_0 = 4255\n",
      "nouveau record : altitude 8153620 pour u_0 = 4591\n",
      "nouveau record : temps de vol 262 pour u_0 = 6171\n",
      "nouveau record : altitude 27114424 pour u_0 = 9663\n"
     ]
    }
   ],
   "source": [
    "t_vol_max = 0\n",
    "alt_max = 0\n",
    "for u_0 in range(1, 10000):\n",
    "    liste_u = suite(u_0)\n",
    "    t_vol = len(liste_u)\n",
    "    alt = max(liste_u)\n",
    "    if t_vol > t_vol_max:\n",
    "        t_vol_max = t_vol\n",
    "        print(\"nouveau record : temps de vol\", t_vol, \"pour u_0 =\", u_0)\n",
    "    if alt > alt_max:\n",
    "        alt_max = alt\n",
    "        print(\"nouveau record : altitude\", alt, \"pour u_0 =\", u_0)"
   ]
  },
  {
   "cell_type": "code",
   "execution_count": null,
   "metadata": {
    "collapsed": false,
    "jupyter": {
     "outputs_hidden": false
    }
   },
   "outputs": [],
   "source": []
  }
 ],
 "metadata": {
  "kernelspec": {
   "display_name": "Python 3",
   "language": "python",
   "name": "python3"
  },
  "language_info": {
   "codemirror_mode": {
    "name": "ipython",
    "version": 3
   },
   "file_extension": ".py",
   "mimetype": "text/x-python",
   "name": "python",
   "nbconvert_exporter": "python",
   "pygments_lexer": "ipython3",
   "version": "3.7.5"
  }
 },
 "nbformat": 4,
 "nbformat_minor": 4
}
