{
 "cells": [
  {
   "cell_type": "markdown",
   "metadata": {},
   "source": [
    "**Complément de cours inter-disciplinaire**\n",
    "\n",
    "tags : première, maths, NSI, suites\n",
    "# Suites et outils numériques\n",
    "Pour le lycéen, en classe de première, en spécialité maths et NSI.  "
   ]
  },
  {
   "cell_type": "markdown",
   "metadata": {},
   "source": [
    "## I] Définitions, premières propriétés\n",
    "Une **suite** est une liste d'éléments, qu'on appelle **termes**.\n",
    "\n",
    "Exemples :\n",
    "* $a = (A, B, C, \\cdots , Y, Z)$ est la suite ordonnée des lettres majuscules de l'alphabet latin, c'est une suite finie.\n",
    "* $b = (1, 3, 5, 7, \\cdots)$ est la suite ordonnée des entiers positifs impairs, elle est infinie.\n",
    "* $F = (0, 1, 1, 2, 3, 5, 8, \\cdots)$ est la suite débutant par $0$ puis $1$ et dont les termes suivants sont la somme des deux précédents. C'est la suite de Fibonacci.\n",
    "* $h = (1, \\frac12, \\frac13, \\frac14, \\cdots)$, $h$ comme harmonique.\n",
    "\n",
    "Vocabulaire :\n",
    "* On dit qu'une suite est **numérique** quand ses termes sont des nombres.\n",
    "* Les termes sont **indicés** avec des entiers dans $\\mathbb N$.\n",
    "    * $a_0 = A$, $a_1 = B$, ... $a_{25} = Z$\n",
    "    * $b_0 = 1$, $b_1 = 3$, $b_2 = 5$, et pour tout $n\\in\\mathbb N$, $b_n = 2n+1$.\n",
    "    * $F_0=0$, $F_1=1$, et $F_{n+2} = F_{n+1} + F_n$ pour tout $n\\in\\mathbb N$.\n",
    "    * $h_n = \\frac1n$ pour tout $n\\in\\mathbb N^*$, $h_0$ n'est pas défini !\n",
    "* Il y a plusieurs notations pour une suite :\n",
    "    * La suite $u$, son premier terme $u_0$.\n",
    "    * La suite $(u)$, son dixième terme $u_9$.\n",
    "    * La suite $(u_n)_n$, son $n$-ième terme $u_{n-1}$.\n",
    "    * La suite $(u_n)_{n\\in\\mathbb N}$, son $(k+1)$-ième terme $u_k$.\n",
    "    * On préfère les notations courtes, mais on utilise les longues pour lever des ambiguïtés.\n",
    "* **Définir** une suite, c'est donner assez d'information pour pouvoir donner un sens à chaque terme. De manière simple, ce serait pouvoir calculer les termes, successivement, mais en vrai cela peut être plus délicat. Rendez-vous en post-BAC pour la _calculabilité_.\n",
    "* En mathématiques, on choisit souvent une seule lettre pour le nom d'une suite, et en particulier la suite $(u_n)_{n\\in \\mathbb N}$ est la plus souvent choisie pour désigner une suite générique.\n",
    "* En informatique, on pourra choisir un nom de variable à plusieurs lettres pour stocker les premiers termes d'une suite. On utilisera une structure de donnée itérable.\n",
    "    * En C, on utilisera un tableau.\n",
    "    * En Python, on utilisera une liste (_list_).\n",
    "    * Avec un tableur, on utilisera des cellules contigües.\n",
    "\n",
    "Il existe plusieurs façons de définir une suite :\n",
    "- par une formule globale $u_n = f(n)$ pour $n \\in I$, où $I$ est un intervalle de $\\mathbb N$, et $f$ une fonction.\n",
    "- par récurrence, on donne le ou les premiers termes, puis une méthode pour définir les suivants en fonctions des précédents. Comme avec l'exemple de la suite de Fibonacci."
   ]
  },
  {
   "cell_type": "markdown",
   "metadata": {},
   "source": [
    "### I.A] Suites arithmétiques\n",
    "Ce sont les suites que l'on peut définir avec une fonction affine, ou de manière équivalente celles ou la différence entre deux termes consécutifs est constante.\n",
    "* $(u)$ est arithmétique $\\iff$ il existe $a, b \\in \\mathbb R$ tel que pour tout $n\\in\\mathbb N$, $u_n = a\\times n + b$.\n",
    "  > Dans ce cas, on a $u_0 = b$, et pour tout $n\\in \\mathbb N$,  \n",
    "  $u_{n+1} - u_n = \\left(a\\times(n+1) + b\\right) - (a\\times n + b)$  \n",
    "  $u_{n+1} - u_n = an + a + b -an -b$  \n",
    "  $u_{n+1} - u_n = a$. On dit que la suite est arithmétique de raison $a$.\n",
    "  \n",
    "* On peut définir une suite arithmétique par la donnée de sa raison (souvent notée $r$) et de son premier terme $u_0$.\n",
    "    > Dans ce cas, on a pour tout $n\\in \\mathbb N \\quad u_{n+1} - u_n = r \\quad \\textrm{et} \\quad u_n = u_0 + rn$.  \n",
    "    On a aussi pour tout $n\\in \\mathbb N \\quad u_{n+1} = u_n + r$\n",
    "    \n",
    "* Avec l'exemple du paragraphe précédent, on peut dire que $(b)$ est une suite arithmétique de premier terme $1$ et de raison $2$.\n",
    "\n",
    "\n",
    "#### Exercice\n",
    "> $(u)$ est une suite arithmétique telle que $u_{10} = 1757$ et $u_{100} = 5537$, déterminer $u_n$ en fonction de $n$.\n",
    "\n",
    "**Réponse :**\n",
    "$u$ est arithmétique, donc il existe des nombres $a$ et $b$ tels que pour tout $n\\in \\mathbb N \\quad u_n = an+b$\n",
    "\n",
    "On a $u_{100} = 100a +b = 5537$, et  $u_{10} = 10a +b = 1757$, par soustraction on obtient :  \n",
    "$u_{100} - u_{10} = 100a - 10a = 5537 - 1757$, d'où l'on tire  \n",
    "$90a = 3780$, et donc $a = 42$.  \n",
    "\n",
    "On a donc, pour tout $n\\in \\mathbb N \\quad u_n = 42n+b$, et avec $n=10$, on a:  \n",
    "$u_{10} = 42\\times10 + b = 1757$, d'où $b = 1757 - 420 = 1337$.  \n",
    "On aurait également trouvé $b=1337$, de la même manière, en utilisant $u_{100} = 5537$.\n",
    "\n",
    "_Conclusion_ : pour tout $n\\in \\mathbb N \\quad u_n = 42n + 1337$.\n",
    "\n",
    "> Remarque, culture _geek_\n",
    "* $42$ est la réponse à [la grande question sur la vie, l'univers et le reste](https://fr.wikipedia.org/wiki/La_grande_question_sur_la_vie,_l%27univers_et_le_reste).\n",
    "* $1337$ est un [code](https://fr.wikipedia.org/wiki/Leet_speak) qui se prononce _Elite_, où l'on remplace les lettres par d'autres symboles.\n",
    "    * L est remplacé par `1`, en anglais on prononce comme : elle\n",
    "    * E est remplacé par `3`, en anglais on prononce comme : i\n",
    "    * T est remplacé par `7`, en anglais on prononce comme : t\n",
    "    * (elle, i, i, t) se prononce alors comme _elite_ en anglais."
   ]
  },
  {
   "cell_type": "markdown",
   "metadata": {},
   "source": [
    "### I.B] Somme de termes consécutifs d'une suite arithmétique\n",
    "#### $S_n = 1+2+3+4+\\cdots+n$\n",
    "Notre objectif est d'établir une formule pour $S_n$. On l'écrit dans un sens, puis à l'envers, on ajoute les termes qui se correspondent de façon à obtenir $2S_n$ qui est la somme de $n$ termes tous égaux.\n",
    "\n",
    "|$S_n$|$=1$|$+2$|$+3$|$\\cdots$|$+(n-2)$|$+(n-1)$|$+n$|\n",
    "|----:|----|----|----|--------|--------|--------|----|\n",
    "|$+S_n$|$=n$|$+(n-1)$|$+(n-2)$|$\\cdots$|$+3$|$+2$|$+1$|\n",
    "|$=2S_n$|$=(n+1)$|$+(n+1)$|$+(n+1)$|$\\cdots$|$+(n+1)$|$+(n+1)$|$+(n+1)$|\n",
    "\n",
    "On tire $2S_n = n(n+1)$, il y avait $n$ termes égaux à $(n+1)$.\n",
    "> **Conclusion** : pour tout $n\\in \\mathbb N \\quad 1+2+3+4+\\cdots+n = \\dfrac{n(n+1)}2$.\n"
   ]
  },
  {
   "cell_type": "markdown",
   "metadata": {},
   "source": [
    "### I.C] Suites géométriques\n",
    "On a vu que pour une suite arithmétique $(u)$, on a pour tout $n\\in \\mathbb N$ : $u_{n+1} = u_n + r$, où $r$ est la raison.\n",
    "\n",
    "De la même manière, on dira qu'une suite $(v)$ est géométique, si pour tout $n\\in \\mathbb N$ : $v_{n+1} = v_n \\times q$, où $q$ est la raison.\n",
    "\n",
    "Pourquoi $q$ ?\n",
    "> $q$ comme quotient. Si les termes sont non nuls, on  a pour tout $n\\in \\mathbb N$ : $\\dfrac {v_{n+1}}{  v_n } = q$.\n",
    "\n",
    "Pourquoi $v$ ?\n",
    "> On met ce qu'on veut.\n",
    "\n",
    "Y a-t-il une formule pour le terme d'indice $n$ ?\n",
    "> Oui.\n",
    "\n",
    "On considère une suite géométrique de premier terme $v_0$ et de raison $q$. On a :\n",
    "* $v_0 = v_0 = v_0\\times q^0$\n",
    "* $v_1 = v_0 \\times q = v_0\\times q^1$\n",
    "* $v_2 = v_0 \\times q\\times q = v_0\\times q^2$\n",
    "* $v_3 = v_0 \\times q\\times q \\times q= v_0\\times q^3$\n",
    "\n",
    "> Et de manière générale : pour tout $n\\in\\mathbb N$, on a $v_n = v_0 \\times q^n$"
   ]
  },
  {
   "cell_type": "markdown",
   "metadata": {},
   "source": [
    "### I.D] Somme de termes consécutifs d'une suite géométrique\n",
    "#### Avec premier terme égal à 1\n",
    "On pose $q\\neq1$, et on considère :\n",
    "$S_n = 1+q+q^2+\\cdots+q^{n-1}+q^n$\n",
    "\n",
    "On a $qS_n = q+q^2+q^3\\cdots+q^n+q^{n+1}$, on déduit $qS_n - S_n = q^{n+1} - 1$, d'où \n",
    "\n",
    "> $S_n = \\dfrac{q^{n+1} - 1}{q - 1}$, pour $q\\neq1$.\n",
    "\n",
    "Remarque, si $q=1$, alors la suite est arithmétique ; déjà vu."
   ]
  },
  {
   "cell_type": "markdown",
   "metadata": {},
   "source": [
    "#### Avec premier terme quelconque\n",
    "Il suffit de factoriser par le premier terme.\n",
    "\n",
    "$S_n = v_0 + v_1 + v_2 + \\cdots + v_{n-1} + v_n$\n",
    "\n",
    "$S_n = v_0\\times 1+v_0\\times q+ v_0\\times q^2+\\cdots+v_0\\times q^{n-1}+v_0\\times q^n$\n",
    "\n",
    "$S_n = v_0\\times \\left(1+q+q^2+\\cdots+q^{n-1}+q^n\\right)$\n",
    "\n",
    "On se rammène au cas précédent."
   ]
  },
  {
   "cell_type": "markdown",
   "metadata": {},
   "source": [
    "### I.E] Variations d'une suite numérique\n",
    "\n",
    "#### Suite arithmétique\n",
    "Avec pour tout $n\\in\\mathbb N$, $u_n = a\\times n + b$ :\n",
    "* Si $a>0$, alors la suite $(u_n)$ est strictement croissante.\n",
    "* Si $a<0$, alors la suite $(u_n)$ est strictement décroissante.\n",
    "\n",
    "#### Suite géométrique à termes positifs\n",
    "Avec pour tout $n\\in\\mathbb N$, $v_n = v_0 \\times q^n$ :\n",
    "* Si $v_0>0$ et $1<q$, alors la suite $(v_n)$ est strictement croissante.\n",
    "* Si $v_0>0$ et $0<q<1$, alors la suite $(v_n)$ est strictement décroissante.\n",
    "\n",
    "> Remarques\n",
    "> * Si $q$ est négatif, les termes de la suite changent de signe alternativement.\n",
    "> * Si $v_0$ est négatif, on étudie la suite $(-v_n)$ qui est géométrique et de permier terme positif.\n",
    "> * Si $q=1$, la suite est constante, égale à $v_0$.\n",
    "> * Si $q=0$, la suite est constante, nulle à partir du rang 1.\n"
   ]
  },
  {
   "cell_type": "markdown",
   "metadata": {},
   "source": [
    "## II] Générations avec une fonction\n",
    "Dans la suite, on prendra pour exemple la suite définie avec $u_n = f(n)$, où $f(x) = \\sqrt{x^2+1} - x$\n",
    "\n",
    "### II.A] Calcul de termes\n",
    "On peut, si la suite est définie par une fonction, calculer facilement un terme quelconque.\n",
    "\n",
    "Voici plusieurs méthodes."
   ]
  },
  {
   "cell_type": "markdown",
   "metadata": {},
   "source": [
    "#### Exemple 1"
   ]
  },
  {
   "cell_type": "code",
   "execution_count": 1,
   "metadata": {
    "collapsed": false,
    "jupyter": {
     "outputs_hidden": false
    }
   },
   "outputs": [
    {
     "name": "stdout",
     "output_type": "stream",
     "text": [
      "Avec n = 10  , on a u(n) = 0.049875621120889946\n",
      "Avec n = 100  , on a u(n) = 0.004999875006248544\n",
      "Avec n = 1000  , on a u(n) = 0.0004999998750463419\n"
     ]
    }
   ],
   "source": [
    "from math import sqrt\n",
    "\n",
    "def u(x):\n",
    "    return sqrt(x**2 + 1) - x\n",
    "\n",
    "# exemple 1\n",
    "for n in [10, 100, 1000]:\n",
    "    print(\"Avec n =\", n, \" , on a u(n) =\", u(n))"
   ]
  },
  {
   "cell_type": "markdown",
   "metadata": {},
   "source": [
    "La première ligne permet d'utiliser _sqrt_, à partir du module _math_.\n",
    "> _**sq**uare **r**oo**t**_ : la racine carrée, en anglais.\n",
    "\n",
    "On définit ensuite la suite $(u_n)_{n\\in \\mathbb N}$ avec une fonction.\n",
    "\n",
    "On calcule ensuite trois termes, et on les affiche."
   ]
  },
  {
   "cell_type": "markdown",
   "metadata": {},
   "source": [
    "#### Exemple 2"
   ]
  },
  {
   "cell_type": "code",
   "execution_count": 2,
   "metadata": {
    "collapsed": false,
    "jupyter": {
     "outputs_hidden": false
    }
   },
   "outputs": [
    {
     "name": "stdout",
     "output_type": "stream",
     "text": [
      "[1.0, 0.41421356237309515, 0.2360679774997898, 0.16227766016837952]\n",
      "\n",
      "0.16227766016837952\n"
     ]
    }
   ],
   "source": [
    "U = []\n",
    "for n in range(4):\n",
    "    U.append(u(n))\n",
    "print(U)\n",
    "print()\n",
    "print(U[3])"
   ]
  },
  {
   "cell_type": "markdown",
   "metadata": {},
   "source": [
    "On peut construire une liste vide, et ensuite y ajouter élément par élément, les 4 premiers termes de la suite.\n",
    "\n",
    "On affiche ensuite la liste construite, puis le quatrième terme. $u_0$ en est le premier terme."
   ]
  },
  {
   "cell_type": "markdown",
   "metadata": {},
   "source": [
    "#### Exemple 3"
   ]
  },
  {
   "cell_type": "code",
   "execution_count": 3,
   "metadata": {
    "collapsed": false,
    "jupyter": {
     "outputs_hidden": false
    }
   },
   "outputs": [
    {
     "name": "stdout",
     "output_type": "stream",
     "text": [
      "[1.0, 0.41421356237309515, 0.2360679774997898, 0.16227766016837952]\n",
      "0.16227766016837952\n"
     ]
    }
   ],
   "source": [
    "V = [u(n) for n in range(4)]\n",
    "print(V)\n",
    "print(V[3])"
   ]
  },
  {
   "cell_type": "markdown",
   "metadata": {},
   "source": [
    "Il s'agit d'une variante où l'on construit la [liste en compréhension](https://fr.wikipedia.org/wiki/Liste_en_compr%C3%A9hension). Cette méthode est aussi au programme de la spé maths en première."
   ]
  },
  {
   "cell_type": "markdown",
   "metadata": {},
   "source": [
    "#### Exemple 4"
   ]
  },
  {
   "cell_type": "code",
   "execution_count": 4,
   "metadata": {},
   "outputs": [
    {
     "name": "stdout",
     "output_type": "stream",
     "text": [
      "[1.0, 0.41421356237309515, 0.2360679774997898, 0.16227766016837952]\n",
      "0.16227766016837952\n"
     ]
    }
   ],
   "source": [
    "W = list(map(u, range(4)))\n",
    "print(W)\n",
    "print(W[3])"
   ]
  },
  {
   "cell_type": "markdown",
   "metadata": {
    "jupyter": {
     "outputs_hidden": false
    }
   },
   "source": [
    "Il s'agit d'une variante fonctionnelle. Cette méthode peut être très intéressante si on ne veut pas, justement, construire la liste, mais plutôt les égrainer."
   ]
  },
  {
   "cell_type": "markdown",
   "metadata": {
    "jupyter": {
     "outputs_hidden": false
    }
   },
   "source": [
    "### II.B] Représentation graphique"
   ]
  },
  {
   "cell_type": "code",
   "execution_count": 5,
   "metadata": {
    "collapsed": false,
    "jupyter": {
     "outputs_hidden": false
    }
   },
   "outputs": [],
   "source": [
    "%matplotlib inline\n",
    "import matplotlib.pyplot as plt"
   ]
  },
  {
   "cell_type": "code",
   "execution_count": 11,
   "metadata": {},
   "outputs": [
    {
     "data": {
      "image/png": "[encoded data removed]",
      "text/plain": [
       "<Figure size 432x288 with 1 Axes>"
      ]
     },
     "metadata": {
      "needs_background": "light"
     },
     "output_type": "display_data"
    }
   ],
   "source": [
    "X = list(range(10))\n",
    "Y = [u(n) for n in X]\n",
    "\n",
    "plt.plot(X, Y, \"ro\")\n",
    "plt.xlabel(\"Indice n\")\n",
    "plt.ylabel(\"Valeur de u(n)\")\n",
    "plt.title(\"Représentation graphique de (u)\")\n",
    "plt.text(3, 0.5, \"Un ensemble de points\")\n",
    "plt.show()"
   ]
  },
  {
   "cell_type": "markdown",
   "metadata": {
    "jupyter": {
     "outputs_hidden": false
    }
   },
   "source": [
    "## III] Suite définie par récurrence\n",
    "\n",
    "La présentation des suites factorielles et de Fibonacci est incontournable.\n",
    "* Elles sont les plus simples (non triviales) de leur genre,\n",
    "* elles permettent de comprendre des phénomènes profonds, des algorithmes qui se généralisent,\n",
    "* leur utilisation est importante en dénombrement.\n",
    "\n",
    "### Factorielle\n",
    "Pour $n\\in \\mathbb N$, la factorielle de $n$, notée $n!$ est le produit des entiers de $1$ à $n$.\n",
    "* $0! = 1$, comme tout produit vide ;\n",
    "* $1! = 1$ ;\n",
    "* $2! = 1\\times 2 = 2$ ;\n",
    "* $3! = 1\\times 2 \\times 3 = 6$ ;\n",
    "* $4! = 1\\times 2 \\times 3 \\times 4 = 24$ ;\n",
    "\n",
    "La fonction `factorial` est incluse dans le module math :"
   ]
  },
  {
   "cell_type": "code",
   "execution_count": 13,
   "metadata": {},
   "outputs": [
    {
     "name": "stdout",
     "output_type": "stream",
     "text": [
      "0! = 1\n",
      "1! = 1\n",
      "2! = 2\n",
      "3! = 6\n",
      "4! = 24\n",
      "5! = 120\n",
      "6! = 720\n",
      "7! = 5040\n",
      "8! = 40320\n",
      "9! = 362880\n",
      "10! = 3628800\n",
      "11! = 39916800\n",
      "12! = 479001600\n",
      "13! = 6227020800\n",
      "14! = 87178291200\n",
      "15! = 1307674368000\n",
      "16! = 20922789888000\n",
      "17! = 355687428096000\n",
      "18! = 6402373705728000\n",
      "19! = 121645100408832000\n"
     ]
    }
   ],
   "source": [
    "from math import factorial\n",
    "for n in range(20):\n",
    "    print(f\"{n}! = {factorial(n)}\")"
   ]
  },
  {
   "cell_type": "markdown",
   "metadata": {},
   "source": [
    "Il faut cependant comprendre comment la fabriquer. Voici plusieurs méthodes avec des critiques :"
   ]
  },
  {
   "cell_type": "code",
   "execution_count": 1,
   "metadata": {},
   "outputs": [],
   "source": [
    "def fact1(n):\n",
    "    \"factorielle de n, version récursive\"\n",
    "    if n == 0:\n",
    "        return 1\n",
    "    else:\n",
    "        return n * fact1(n - 1)"
   ]
  },
  {
   "cell_type": "markdown",
   "metadata": {},
   "source": [
    "* La **récursivité** permet d'écrire du code élégant.\n",
    "* Cette méthode est simple et efficace pour le calcul d'une unique factorielle.\n",
    "* Cette méthode sera mauvaise pour de nombreux appels ; il vaut mieux stocker les résultats dans une liste."
   ]
  },
  {
   "cell_type": "code",
   "execution_count": 2,
   "metadata": {},
   "outputs": [],
   "source": [
    "limit = 1000\n",
    "f_n = 1\n",
    "fact2_lst = [f_n]\n",
    "for n in range(1, 1000):\n",
    "    f_n = f_n * n\n",
    "    fact2_lst.append(f_n)"
   ]
  },
  {
   "cell_type": "markdown",
   "metadata": {},
   "source": [
    "* Une liste permet d'avoir un accès rapide à `fact2[i]` pour tout `i` dans l'intervalle $[\\![0..1000[\\![$\n",
    "* Une liste peut-être étendue au besoin ; il faut juste avoir assez de place, et de temps. *(Tout un programme.)*"
   ]
  },
  {
   "cell_type": "code",
   "execution_count": 3,
   "metadata": {},
   "outputs": [],
   "source": [
    "fact_dico = dict() # un dictionnaire\n",
    "fact_dico[0] = 1 # pour 0! = 1\n",
    "def fact3(n):\n",
    "    if n not in fact_dico:\n",
    "        fact_dico[n] = n * fact3(n)\n",
    "    return fact_dico[n]"
   ]
  },
  {
   "cell_type": "code",
   "execution_count": null,
   "metadata": {},
   "outputs": [],
   "source": [
    "* L'utilisation d'un dictionnaire permet de gagner de la place mémoire si on n'a pas besoin de toutes les valeurs sur un intervalle.\n",
    "* Ici ce n'est pas pertinent, sauf pour le côté pédagogique."
   ]
  }
 ],
 "metadata": {
  "kernelspec": {
   "display_name": "Python 3",
   "language": "python",
   "name": "python3"
  },
  "language_info": {
   "codemirror_mode": {
    "name": "ipython",
    "version": 3
   },
   "file_extension": ".py",
   "mimetype": "text/x-python",
   "name": "python",
   "nbconvert_exporter": "python",
   "pygments_lexer": "ipython3",
   "version": "3.7.5"
  }
 },
 "nbformat": 4,
 "nbformat_minor": 4
}
