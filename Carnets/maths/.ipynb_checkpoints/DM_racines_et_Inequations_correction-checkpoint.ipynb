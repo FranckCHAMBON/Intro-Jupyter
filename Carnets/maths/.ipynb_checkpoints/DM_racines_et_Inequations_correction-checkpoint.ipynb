{
 "cells": [
  {
   "cell_type": "markdown",
   "metadata": {},
   "source": [
    "# Correction DM inéquations & racines\n",
    "\n",
    "## I] Inéquations d'échauffement\n",
    "Résoudre dans $\\mathbb{R}$ les inéquations suivantes :"
   ]
  },
  {
   "cell_type": "markdown",
   "metadata": {},
   "source": [
    "## $(\\mathscr E_a) \\qquad \\sqrt{-x^2+2x}>\\sqrt{x^2-x-1}$\n",
    "\n",
    "### Ensemble de définition\n",
    "L'ensemble de définition de l'inéquation $(\\mathscr E_a)$ est donné par les contraintes : $-x^2+2x \\geqslant 0$ et $x^2-x-1 \\geqslant 0$.\n",
    "\n",
    "* Pour la première, une simple factorisation par $x$ donne $x(-x+2) \\geqslant 0$, et avec un tableau de signe, on obtient la contrainte $x \\in [0 ; 2]$.\n",
    "\n",
    "* Pour la seconde, le discriminant du trinôme est $\\Delta = (-1)^2 - 4\\times1\\times(-1) = 5>0$.  \n",
    "Une fois étudié, on a \n",
    "$x \\in \\left]-\\infty ; \\dfrac{1-\\sqrt5}{2}\\right] \\cup \\left[\\dfrac{1+\\sqrt5}{2} ; +\\infty\\right[$.\n",
    "\n",
    "Ces deux contraintes donnent, par intersection, $\\left[\\dfrac{1+\\sqrt5}{2} ; 2\\right]$ comme ensemble de définition."
   ]
  },
  {
   "cell_type": "markdown",
   "metadata": {},
   "source": [
    "### Représentation graphique\n",
    "\n",
    "On représente\n",
    " $x\\mapsto \\sqrt{-x^2+2x}$ (en bleu), et $x\\mapsto - \\sqrt{x^2-x-1}$ (en rouge).\n",
    " \n",
    "Cela nous donnera une idée des solutions, sans être une preuve ; c'est une bonne pratique."
   ]
  },
  {
   "cell_type": "code",
   "execution_count": 10,
   "metadata": {
    "collapsed": false,
    "jupyter": {
     "outputs_hidden": false
    }
   },
   "outputs": [],
   "source": [
    "%matplotlib inline\n",
    "import matplotlib.pyplot as plt\n",
    "# Pour pouvoir faire des graphiques ; à lancer une seule fois\n",
    "\n",
    "from math import sqrt\n",
    "\n",
    "def my_sqrt(x):\n",
    "    \"racine carrée qui n'échoue pas pour x<0\"\n",
    "    if x >= 0:\n",
    "        return sqrt(x)\n",
    "    else:\n",
    "        return None\n",
    "\n",
    "def trace_gauche_droite(x_min, x_max, gauche, droite, nb_points=300):\n",
    "    \"Trace deux courbes défines par les fonctions gauche et droite\"\n",
    "    n = nb_points\n",
    "    X = [x_min + (x_max - x_min)*i/n for i in range(n)]\n",
    "    Yg = [gauche(x) for x in X]\n",
    "    Yd = [droite(x) for x in X]\n",
    "    plt.plot( X, Yg, color = 'blue' )\n",
    "    plt.plot( X, Yd, color = 'red' )\n",
    "    plt.show()"
   ]
  },
  {
   "cell_type": "code",
   "execution_count": 11,
   "metadata": {
    "collapsed": false,
    "jupyter": {
     "outputs_hidden": false
    }
   },
   "outputs": [
    {
     "data": {
      "image/png": "[encoded data removed]",
      "text/plain": [
       "<Figure size 432x288 with 1 Axes>"
      ]
     },
     "metadata": {
      "needs_background": "light"
     },
     "output_type": "display_data"
    }
   ],
   "source": [
    "def f(x):\n",
    "    return my_sqrt(-x**2 +2*x)\n",
    "\n",
    "def g(x):\n",
    "    return my_sqrt(x**2 -x -1)\n",
    "\n",
    "\n",
    "trace_gauche_droite(-2, 3, f, g)"
   ]
  },
  {
   "cell_type": "markdown",
   "metadata": {},
   "source": [
    "On vérifie que notre ensemble de définition est environ $[1.6 ; 2]$ ; là où _bleu_ et _rouge_ existent.\n",
    "\n",
    "Les solutions étant là où _bleu_ est au dessus de _rouge_.\n",
    "Zoomons dans cet intervalle."
   ]
  },
  {
   "cell_type": "code",
   "execution_count": 12,
   "metadata": {
    "collapsed": false,
    "jupyter": {
     "outputs_hidden": false
    }
   },
   "outputs": [
    {
     "data": {
      "image/png": "[encoded data removed]",
      "text/plain": [
       "<Figure size 432x288 with 1 Axes>"
      ]
     },
     "metadata": {
      "needs_background": "light"
     },
     "output_type": "display_data"
    }
   ],
   "source": [
    "trace_gauche_droite(1.6, 2, f, g)"
   ]
  },
  {
   "cell_type": "markdown",
   "metadata": {},
   "source": [
    "Une lecture graphique nous indique des solutions pour $x \\in [1.62 ; 1.78[$ environ.\n",
    "\n",
    "Ce n'est pas une preuve, juste une indication. Faisons maintenant la résolution."
   ]
  },
  {
   "cell_type": "markdown",
   "metadata": {},
   "source": [
    "### Résolution\n",
    "Une inéquation de la forme $\\sqrt{A}>\\sqrt{B}$ est équivalente à :\n",
    "> $A\\geqslant 0$ ; $B\\geqslant 0$ ; $A > B$."
   ]
  },
  {
   "cell_type": "markdown",
   "metadata": {},
   "source": [
    "En effet,\n",
    "- $A\\geqslant 0$ et $B\\geqslant 0$ sont là pour la définition des racines carrées.\n",
    "- ensuite les fonction $x\\mapsto x^2$ et $x\\mapsto \\sqrt x$ sont strictement croissantes sur $[0\\,;\\,+\\infty[$\n",
    "\n",
    "Les deux premières conditions nous ont déjà donné l'ensemble de définition. Reste à résoudre : \n",
    "> $-x^2+2x>x^2-x-1$, qui donne après calculs :   \n",
    "> $x \\in \\left]\\dfrac{3-\\sqrt{17}}{4} ; \\dfrac{3+\\sqrt{17}}{4}\\right[$.\n",
    "\n",
    "On donne des valeurs approchées utiles : \n",
    "> $\\dfrac{1+\\sqrt5}{2} \\approx 1.618$ ;  \n",
    "> $\\dfrac{3-\\sqrt{17}}{4}\\approx -0.281$ ;  \n",
    "> $\\dfrac{3+\\sqrt{17}}{4}\\approx 1.781$ .\n",
    "\n",
    "\n",
    "On assemble les contraintes.\n",
    ">Les solutions de l'inéquation $(\\mathscr E_a)$ sont : $x \\in \\left[\\dfrac{1+\\sqrt5}{2} ; \\dfrac{3+\\sqrt{17}}{4}\\right[$.\n"
   ]
  },
  {
   "cell_type": "markdown",
   "metadata": {},
   "source": [
    "<hr>"
   ]
  },
  {
   "cell_type": "markdown",
   "metadata": {},
   "source": [
    "## $(\\mathscr E_b) \\qquad 2x+1>\\sqrt{x^2+1}$\n",
    "\n",
    "### Ensemble de définition\n",
    "L'ensemble de définition de l'inéquation $(\\mathscr E_b)$ est donné \n",
    "par la contrainte $x^2+1 \\geqslant 0$. Soit $x \\in \\mathbb{R}$, *après un calcul simple*."
   ]
  },
  {
   "cell_type": "markdown",
   "metadata": {},
   "source": [
    "### Représentation graphique"
   ]
  },
  {
   "cell_type": "code",
   "execution_count": 13,
   "metadata": {
    "collapsed": false,
    "jupyter": {
     "outputs_hidden": false
    },
    "scrolled": true
   },
   "outputs": [
    {
     "data": {
      "image/png": "[encoded data removed]",
      "text/plain": [
       "<Figure size 432x288 with 1 Axes>"
      ]
     },
     "metadata": {
      "needs_background": "light"
     },
     "output_type": "display_data"
    }
   ],
   "source": [
    "def f(x):\n",
    "    return 2*x +1\n",
    "\n",
    "def g(x):\n",
    "    return my_sqrt(x**2 +1)\n",
    "\n",
    "trace_gauche_droite(-4, 4, f, g)"
   ]
  },
  {
   "cell_type": "markdown",
   "metadata": {},
   "source": [
    "On constate que les solutions semblent être : $x \\in ]0 ; +\\infty[$."
   ]
  },
  {
   "cell_type": "markdown",
   "metadata": {},
   "source": [
    "### Résolution\n",
    "Une équation de la forme $A>\\sqrt{B}$ est équivalente à :\n",
    "> $A\\geqslant0$ ; $B\\geqslant0$ ; $A^2>B$.\n",
    "\n",
    "* La première contrainte est $2x+1\\geqslant0$, soit $x\\geqslant \\dfrac{-1}{2}$.\n",
    "\n",
    "* La deuxième contrainte est $x^2+1\\geqslant 0$, toujours réalisée, soit $x \\in \\mathbb{R}$.\n",
    "\n",
    "* La troisième contrainte est $(2x+1)^2 > x^2+1$, qui se ramène, après calculs, à :\n",
    "> $3x^2+4x>0$, puis sous forme factorisée :  \n",
    "> $x(3x+4)>0$ dont les solutions sont :  \n",
    "> $x \\in \\left]-\\infty ; \\dfrac{-4}{3}\\right[ \\cup ]0 ; +\\infty[$.\n",
    "\n",
    "\n",
    "On assemble les trois contraintes.\n",
    "> Les solutions de l'inéquation $(\\mathscr E_b)$ sont : $x \\in ]0 ; +\\infty[$."
   ]
  },
  {
   "cell_type": "markdown",
   "metadata": {},
   "source": [
    "<hr>"
   ]
  },
  {
   "cell_type": "markdown",
   "metadata": {},
   "source": [
    "## $(\\mathscr E_c) \\qquad x-3>\\sqrt{x^2-2x}$\n",
    "\n",
    "### Ensemble de définition\n",
    "\n",
    "L'ensemble de définition de l'équation $(\\mathscr E_c)$ est donné \n",
    "par la contrainte $x^2-2x \\geqslant 0$.\n",
    "> Factorisée, elle s'écrit aussi $x(x-2)\\geqslant 0$,    \n",
    "> ou encore $x \\in ]-\\infty ; 0] \\cup [2 ; +\\infty[$."
   ]
  },
  {
   "cell_type": "markdown",
   "metadata": {},
   "source": [
    "### Représentation graphique"
   ]
  },
  {
   "cell_type": "code",
   "execution_count": 14,
   "metadata": {
    "collapsed": false,
    "jupyter": {
     "outputs_hidden": false
    }
   },
   "outputs": [
    {
     "data": {
      "image/png": "[encoded data removed]",
      "text/plain": [
       "<Figure size 432x288 with 1 Axes>"
      ]
     },
     "metadata": {
      "needs_background": "light"
     },
     "output_type": "display_data"
    }
   ],
   "source": [
    "def f(x):\n",
    "    return x -3\n",
    "\n",
    "def g(x):\n",
    "    return my_sqrt(x**2 -2*x)\n",
    "\n",
    "trace_gauche_droite(-4, 6, f, g)"
   ]
  },
  {
   "cell_type": "markdown",
   "metadata": {},
   "source": [
    "Il semble n'y avoir aucune solution."
   ]
  },
  {
   "cell_type": "markdown",
   "metadata": {},
   "source": [
    "### Résolution\n",
    "Une inéquation de la forme $A>\\sqrt{B}$ est équivalente à :\n",
    "> $A\\geqslant0$ ; $B\\geqslant0$ ; $A^2>B$.\n",
    "\n",
    "* La première contrainte est $x-3\\geqslant 0$, soit $x\\geqslant3$.\n",
    "\n",
    "* La deuxième contrainte est $x^2-2x \\geqslant 0$, soit $x \\in ]-\\infty ; 0] \\cup [2 ; +\\infty[$.\n",
    "\n",
    "* La troisième contrainte est $(x-3)^2 > x^2-2x$, qui se ramène à $-4x+9>0$, i.e. $x<\\dfrac{9}{4}$.\n",
    "\n",
    "\n",
    "Or $\\dfrac{9}{4}<3$, on en conclut que la première et troisième contrainte excluent toute solution.\n",
    "> Il n'y a aucune solution à cette inéquation $(\\mathscr E_c)$."
   ]
  },
  {
   "cell_type": "markdown",
   "metadata": {},
   "source": [
    "<hr>"
   ]
  },
  {
   "cell_type": "markdown",
   "metadata": {},
   "source": [
    "## $(\\mathscr E_d) \\qquad \\sqrt{3-2x} \\leqslant \\sqrt{2x-x^2}$\n",
    "\n",
    "### Ensemble de définition\n",
    "L'ensemble de définition de l'inéquation $(\\mathscr E_d)$ est donné par les contraintes :  $3-2x \\geqslant 0$ et $2x-x^2 \\geqslant 0$.\n",
    "\n",
    "* La première impose $x \\in \\left]-\\infty ; \\dfrac{3}{2}\\right]$.\n",
    "\n",
    "* La seconde impose $x \\in [0 ; 2]$.\n",
    "\n",
    "Ce qui nous donne $\\left[0 ; \\dfrac{3}{2}\\right]$ comme ensemble de définition."
   ]
  },
  {
   "cell_type": "markdown",
   "metadata": {},
   "source": [
    "### Représentation graphique\n",
    "\n",
    "On représente\n",
    " $x\\mapsto \\sqrt{3-2x}$ (en bleu), et $x\\mapsto - \\sqrt{2x-x^2}$ (en rouge).\n",
    " "
   ]
  },
  {
   "cell_type": "code",
   "execution_count": 15,
   "metadata": {
    "collapsed": false,
    "jupyter": {
     "outputs_hidden": false
    }
   },
   "outputs": [
    {
     "data": {
      "image/png": "[encoded data removed]",
      "text/plain": [
       "<Figure size 432x288 with 1 Axes>"
      ]
     },
     "metadata": {
      "needs_background": "light"
     },
     "output_type": "display_data"
    }
   ],
   "source": [
    "def f(x):\n",
    "    return my_sqrt(3 -2*x)\n",
    "\n",
    "def g(x):\n",
    "    return my_sqrt(2*x -x**2)\n",
    "\n",
    "trace_gauche_droite(-1, 3, f, g)"
   ]
  },
  {
   "cell_type": "markdown",
   "metadata": {},
   "source": [
    "Il semble y avoir des solutions dans $[1 ; 1.5]$, environ."
   ]
  },
  {
   "cell_type": "markdown",
   "metadata": {},
   "source": [
    "### Résolution\n",
    "Une équation de la forme $\\sqrt{A} \\leqslant \\sqrt{B}$ est équivalente à :\n",
    "> $A\\geqslant0$ ; $B\\geqslant0$ ; $A \\leqslant B$.\n",
    "\n",
    "Les deux premières contraintes nous ont donné l'ensemble de définition.\n",
    "\n",
    "La troisième contrainte est $3-2x \\leqslant 2x-x^2$,  \n",
    "qui s'écrit aussi $x^2-4x+3\\leqslant0$,  \n",
    "équivalente à $(x-3)(x-1)\\leqslant0$,  \n",
    "et donc à $x \\in [1 ; 3]$.\n",
    "\n",
    "\n",
    "Les solutions de l'inéquation $(\\mathscr E_d)$ sont :\n",
    "$x \\in \\left[1 ; \\dfrac{3}{2}\\right]$."
   ]
  },
  {
   "cell_type": "markdown",
   "metadata": {},
   "source": [
    "<hr>"
   ]
  },
  {
   "cell_type": "markdown",
   "metadata": {},
   "source": [
    "## $(\\mathscr E_e) \\qquad x<\\sqrt{x^2+x-6}$\n",
    "\n",
    "### Ensemble de définition\n",
    "\n",
    "L'ensemble de définition de l'équation $(\\mathscr E_e)$ est donné \n",
    "par la contrainte $x^2+x-6 \\geqslant 0$.\n",
    "> Factorisée, elle s'écrit aussi $(x-2)(x+3)\\geqslant 0$,    \n",
    "> ou encore $x \\in ]-\\infty ; -3] \\cup [2 ; +\\infty[$."
   ]
  },
  {
   "cell_type": "markdown",
   "metadata": {},
   "source": [
    "### Représentation graphique"
   ]
  },
  {
   "cell_type": "code",
   "execution_count": 17,
   "metadata": {
    "collapsed": false,
    "jupyter": {
     "outputs_hidden": false
    }
   },
   "outputs": [
    {
     "data": {
      "image/png": "[encoded data removed]",
      "text/plain": [
       "<Figure size 432x288 with 1 Axes>"
      ]
     },
     "metadata": {
      "needs_background": "light"
     },
     "output_type": "display_data"
    }
   ],
   "source": [
    "def f(x):\n",
    "    return x\n",
    "\n",
    "def g(x):\n",
    "    return my_sqrt(x**2 +x -6)\n",
    "trace_gauche_droite(-5, 10, f, g)"
   ]
  },
  {
   "cell_type": "code",
   "execution_count": 18,
   "metadata": {
    "collapsed": false,
    "jupyter": {
     "outputs_hidden": false
    }
   },
   "outputs": [
    {
     "data": {
      "image/png": "[encoded data removed]",
      "text/plain": [
       "<Figure size 432x288 with 1 Axes>"
      ]
     },
     "metadata": {
      "needs_background": "light"
     },
     "output_type": "display_data"
    }
   ],
   "source": [
    "trace_gauche_droite(4, 8, f, g)"
   ]
  },
  {
   "cell_type": "markdown",
   "metadata": {},
   "source": [
    "Il semble y avoir des solutions pour $x \\in ]-\\infty; -3] \\cup ]6 ; +\\infty[$, environ."
   ]
  },
  {
   "cell_type": "markdown",
   "metadata": {},
   "source": [
    "### Résolution\n",
    "Une équation de la forme $A<\\sqrt{B}$ est équivalente à :\n",
    "> $A\\geqslant0$ ; $B\\geqslant0$ ; $A^2 < B$  \n",
    "> **ou bien à**  \n",
    "> $A<0$ ; $B\\geqslant0$.  \n",
    "> _Il ne faut pas oublier les cas où $A$ pourrait être négatif._\n",
    "\n",
    "Il y a deux cas à traiter, on fera l'union des deux cas, et non l'intersection !\n",
    "\n",
    "#### Premier cas\n",
    "On a $x\\geqslant0$, $x \\in ]-\\infty ; -3] \\cup [2 ; +\\infty[$ et une troisième contrainte\n",
    "$x^2 < x^2+x-6$.  \n",
    "Cette dernière se ramène à $x>6$.\n",
    "\n",
    "L'intersection des trois contraintes nous donne\n",
    "$x \\in ]6 ; +\\infty[$.\n",
    "\n",
    "#### Second cas\n",
    "On a $x<0$ et $x \\in ]-\\infty ; -3] \\cup [2 ; +\\infty[$, sans autre contrainte.\n",
    "\n",
    "L'intersection donne $x \\in ]-\\infty ; -3]$.\n",
    "\n",
    "#### Bilan\n",
    "On fait la réunion des deux cas.\n",
    "> Les solutions de l'inéquation $(\\mathscr E_e)$ sont : $x\\in ]-\\infty ; -3]\\cup]6 ; +\\infty[$."
   ]
  },
  {
   "cell_type": "markdown",
   "metadata": {},
   "source": [
    "<hr>"
   ]
  },
  {
   "cell_type": "markdown",
   "metadata": {},
   "source": [
    "## II] Une inéquations sérieuse\n",
    "Résolution dans $\\mathbb R$ de :\n",
    "$$(\\mathscr E_{II})\\qquad \\dfrac{x+4}{2\\sqrt{x+1}} < \\dfrac{x+1}{\\sqrt{2x-1}}$$\n"
   ]
  },
  {
   "cell_type": "markdown",
   "metadata": {},
   "source": [
    "### Ensemble de définition de $(\\mathscr E_{II})$\n",
    "La fonction $u \\mapsto \\dfrac{1}{\\sqrt{u}}$ est définie pour $u>0$, ainsi l'inéquation\n",
    "$(\\mathscr E_{II})$ est définie si les deux contraintes sont vérifiées :\n",
    "\n",
    "> $x+1>0$, soit $x>-1$ ;  \n",
    "> $2x-1>0$, soit $x>\\frac{1}{2}$. Qui est plus contraignante.\n",
    "\n",
    "L'ensemble de définition de $(\\mathscr E_{II})$ est : $x \\in ]\\frac{1}{2} ; +\\infty[$."
   ]
  },
  {
   "cell_type": "markdown",
   "metadata": {},
   "source": [
    "### Résolution graphique"
   ]
  },
  {
   "cell_type": "code",
   "execution_count": 25,
   "metadata": {
    "collapsed": false,
    "jupyter": {
     "outputs_hidden": false
    }
   },
   "outputs": [
    {
     "data": {
      "image/png": "[encoded data removed]",
      "text/plain": [
       "<Figure size 432x288 with 1 Axes>"
      ]
     },
     "metadata": {
      "needs_background": "light"
     },
     "output_type": "display_data"
    }
   ],
   "source": [
    "def f(x):\n",
    "    return (x+4) / (2*my_sqrt(x+1))\n",
    "def g(x):\n",
    "    return (x+1) /  my_sqrt(2*x-1)\n",
    "\n",
    "trace_gauche_droite(0.9, 4, f, g)"
   ]
  },
  {
   "cell_type": "markdown",
   "metadata": {},
   "source": [
    "Il semble que les solutions soient : $x>\\dfrac 1 2$, et $x\\neq 2$."
   ]
  },
  {
   "cell_type": "markdown",
   "metadata": {},
   "source": [
    "### On considère $P(x) = 2x^3 -3x^2 -12x +20$\n",
    "On cherche une racine entière entre $-3$ et $3$."
   ]
  },
  {
   "cell_type": "code",
   "execution_count": null,
   "metadata": {
    "collapsed": false,
    "jupyter": {
     "outputs_hidden": false
    }
   },
   "outputs": [],
   "source": [
    "def P(x): return 2*x**3 -3*x**2 -12*x +20\n",
    "\n",
    "for i in range(-3, 4):\n",
    "  print(\"L'image de\", i, \"par P est :\", P(i))"
   ]
  },
  {
   "cell_type": "markdown",
   "metadata": {},
   "source": [
    "On constate que $2$ est une racine du polynôme $P(x)$.  \n",
    "Il s'écrit donc aussi $P(x) = (x-2)(ax^2 +bx +c)$.\n",
    "\n",
    "En développant, on a : $P(x) = ax^3 +(b-2a)x^2 +(c-2b)x -2c$.  \n",
    "Mais on a aussi :  $\\qquad P(x) = 2x^3 -3x^2 -12x +20$.\n",
    "\n",
    "En identifiant les coefficients, on tire :\n",
    "\n",
    "* $a = +2$\n",
    "* $b-2a = -3$\n",
    "* $c-2b = -12$\n",
    "* $-2c = +20$\n",
    "\n",
    "On déduit, $a=2$, $c=-10$, et enfin $b=1$ de deux manières possibles.\n",
    "\n",
    "Ainsi $P(x) = (x-2)(2x^2 +x -10)$.\n",
    "\n",
    "Le discriminant du trinôme du second degré $(2x^2 +x -10)$ est $\\Delta = 1^2 - 4\\times2\\times(-10) = 81$.  \n",
    "Avec $\\sqrt{\\Delta} = 9$, on peut écrire :\n",
    "$2x^2 +x -10 = 2(x-2)(x+\\frac{5}{2})$.\n",
    "\n",
    "> Finalement $P(x) = 2(x-2)^2(x+\\frac{5}{2})$ est entièrement factorisé."
   ]
  },
  {
   "cell_type": "markdown",
   "metadata": {},
   "source": [
    "### Résolution\n",
    "\n",
    "Dans l'ensemble de définition, les dénominateurs de l'inéquation sont strictement positifs,\n",
    " on peut donc les multiplier tous deux dans chaque membre, pour obtenir : \n",
    "\n",
    "$$(\\mathscr E_{II}) \\qquad (x+4)\\sqrt{2x-1} < 2(x+1)\\sqrt{x+1}$$\n",
    "\n",
    "Dans l'ensemble de définition, on a aussi $x+1>0$ et $x+4>0$, de sorte que les deux\n",
    "membres $A$ et $B$ de l'inéquation de la forme $A < B$ sont déjà positifs. Dans ce cas,\n",
    "on a équivalence avec $A^2 < B^2$, ce qui nous donne :\n",
    "\n",
    "> $(x+4)^2(2x-1) < 2^2(x+1)^2(x+1)$, qui une fois développée et réduite nous donne :\n",
    "\n",
    "> $2x^3 -3x^2 -12x +20 > 0$, et on reconnaît le polynôme de la question précédente que l'on a factorisé. Cela nous donne :\n",
    "\n",
    "> $2(x-2)^2(x+\\frac{5}{2}) > 0$\n",
    "\n",
    "Un tableau de signe nous offre les solutions : $x>-\\frac{5}{2}$, avec $x\\neq 2$.\n"
   ]
  },
  {
   "cell_type": "markdown",
   "metadata": {},
   "source": [
    "### Bilan\n",
    "En tenant compte de l'ensemble de définition,\n",
    "> les solutions de l'inéquation $(\\mathscr E_{II})$ sont : $x > \\dfrac 1 2$, avec $x\\neq 2$."
   ]
  }
 ],
 "metadata": {
  "kernelspec": {
   "display_name": "Python 3",
   "language": "python",
   "name": "python3"
  },
  "language_info": {
   "codemirror_mode": {
    "name": "ipython",
    "version": 3
   },
   "file_extension": ".py",
   "mimetype": "text/x-python",
   "name": "python",
   "nbconvert_exporter": "python",
   "pygments_lexer": "ipython3",
   "version": "3.7.5"
  }
 },
 "nbformat": 4,
 "nbformat_minor": 4
}
