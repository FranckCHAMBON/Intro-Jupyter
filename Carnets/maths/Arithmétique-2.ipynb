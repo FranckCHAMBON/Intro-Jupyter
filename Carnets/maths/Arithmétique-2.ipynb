{
 "cells": [
  {
   "cell_type": "markdown",
   "metadata": {},
   "source": [
    "# Tests de primalités généralistes avancés\n",
    "\n",
    "## Crible d'Ératosthène optimisé en Python\n",
    "\n",
    "## Tests de primalité probabilistes\n",
    "Nous ne donnerons pas ici les démonstrations des théorèmes ; nous nous concentrons sur leur utilisation.\n",
    "\n",
    "Ce paragraphe est raisonnablement pour le post-bac ou pour des lycéens très motivés. Pour les autres, aller directement à \"Factorisation\".\n",
    "### [Test de primalité de Fermat](https://fr.wikipedia.org/wiki/Test_de_primalit%C3%A9_de_Fermat)\n",
    "Théorème :\n",
    "> Si $p$ est premier, alors pour tout $a$ tel que $1<a<p$, on a $a^{p-1}\\equiv 1 \\mod[p]$\n",
    "\n",
    "La réciproque est fausse, mais on utilise la contraposée pour avoir un test probabiliste de primalité. Test que l'on peut rendre déterministe sous certaines conditions."
   ]
  },
  {
   "cell_type": "code",
   "execution_count": 1,
   "metadata": {},
   "outputs": [],
   "source": [
    "from random import randint\n",
    "from outils import eratosthene\n",
    "# outils est un module personnel"
   ]
  },
  {
   "cell_type": "code",
   "execution_count": 2,
   "metadata": {},
   "outputs": [
    {
     "ename": "NameError",
     "evalue": "name 'eratosthene' is not defined",
     "output_type": "error",
     "traceback": [
      "\u001b[0;31m---------------------------------------------------------------------------\u001b[0m",
      "\u001b[0;31mNameError\u001b[0m                                 Traceback (most recent call last)",
      "\u001b[0;32m<ipython-input-2-d0d18c06caa2>\u001b[0m in \u001b[0;36m<module>\u001b[0;34m\u001b[0m\n\u001b[1;32m     15\u001b[0m \u001b[0;34m\u001b[0m\u001b[0m\n\u001b[1;32m     16\u001b[0m \u001b[0mborne\u001b[0m \u001b[0;34m=\u001b[0m \u001b[0;36m10\u001b[0m\u001b[0;34m**\u001b[0m\u001b[0;36m6\u001b[0m\u001b[0;34m\u001b[0m\u001b[0;34m\u001b[0m\u001b[0m\n\u001b[0;32m---> 17\u001b[0;31m \u001b[0mcrible\u001b[0m \u001b[0;34m=\u001b[0m \u001b[0meratosthene\u001b[0m\u001b[0;34m(\u001b[0m\u001b[0mborne\u001b[0m\u001b[0;34m)\u001b[0m\u001b[0;34m\u001b[0m\u001b[0;34m\u001b[0m\u001b[0m\n\u001b[0m\u001b[1;32m     18\u001b[0m \u001b[0;32mfor\u001b[0m \u001b[0mn\u001b[0m \u001b[0;32min\u001b[0m \u001b[0mrange\u001b[0m\u001b[0;34m(\u001b[0m\u001b[0;36m1\u001b[0m\u001b[0;34m,\u001b[0m \u001b[0mborne\u001b[0m\u001b[0;34m)\u001b[0m\u001b[0;34m:\u001b[0m\u001b[0;34m\u001b[0m\u001b[0;34m\u001b[0m\u001b[0m\n\u001b[1;32m     19\u001b[0m     \u001b[0;32mif\u001b[0m \u001b[0mcrible\u001b[0m\u001b[0;34m[\u001b[0m\u001b[0mn\u001b[0m\u001b[0;34m]\u001b[0m\u001b[0;34m:\u001b[0m \u001b[0;32massert\u001b[0m \u001b[0mest_pseudo_premier_v1\u001b[0m\u001b[0;34m(\u001b[0m\u001b[0mn\u001b[0m\u001b[0;34m)\u001b[0m\u001b[0;34m\u001b[0m\u001b[0;34m\u001b[0m\u001b[0m\n",
      "\u001b[0;31mNameError\u001b[0m: name 'eratosthene' is not defined"
     ]
    }
   ],
   "source": [
    "def est_pseudo_premier_v1(n):\n",
    "    \"\"\"\n",
    "    Retourne True quand n est premier, mais parfois aussi quand n est composé.\n",
    "    Ne retourne jamais False quand n est premier.\n",
    "    \"\"\"\n",
    "    nb_tour_boucle = 5\n",
    "    if n < 2: return False\n",
    "    if n < 4: return True\n",
    "    if (n % 2 == 0) or (n % 3 == 0): return False\n",
    "    for _ in range(nb_tour_boucle):\n",
    "        a = randint(2, n-1)\n",
    "        if n % a == 0: return False\n",
    "        if pow(a, n-1, n) != 1: return False\n",
    "    return True\n",
    "    \n",
    "borne = 10**6\n",
    "crible = eratosthene(borne)\n",
    "for n in range(1, borne):\n",
    "    if crible[n]: assert est_pseudo_premier_v1(n)\n",
    "    if est_pseudo_premier_v1(n) != crible[n]:\n",
    "        print(\"Oups, avec\", n)"
   ]
  },
  {
   "cell_type": "markdown",
   "metadata": {},
   "source": [
    "On constate que pour `nb_tour_boucle = 5`, la quantité de nombres qui échouent le test est de l'ordre de la quinzaine, nombres parmi les entiers jusqu'à $10^6$.\n",
    "- Essayer de lancer plusieurs fois le code, la liste varie ; le test est probabiliste.\n",
    "- Essayer avec d'autres valeurs de `nb_tour_boucle`.\n",
    "\n",
    "#### Variante déterministe\n",
    "Le test de primalité de Fermat a une complexité en $\\mathcal O(\\log n)$ ce qui est bien meilleur que notre précédent test individuel en $\\mathcal O\\left(\\sqrt n\\right)$. Il est très intéressant, mais parfois faux !\n",
    "\n",
    "On peut rendre ce test déterministe sur un intervalle. On va le modifier un peu.\n",
    "- On commence par tester la divisibilité par de petits nombres premiers.\n",
    "- On fixe judicieusement les témoins du tests Fermat en fonction de l'intervalle de travail.\n",
    "- On choisira une meilleure méthode pour des entiers plus grands..."
   ]
  },
  {
   "cell_type": "code",
   "execution_count": 3,
   "metadata": {},
   "outputs": [
    {
     "ename": "NameError",
     "evalue": "name 'eratosthene' is not defined",
     "output_type": "error",
     "traceback": [
      "\u001b[0;31m---------------------------------------------------------------------------\u001b[0m",
      "\u001b[0;31mNameError\u001b[0m                                 Traceback (most recent call last)",
      "\u001b[0;32m<ipython-input-3-c7cbf7d9e823>\u001b[0m in \u001b[0;36m<module>\u001b[0;34m\u001b[0m\n\u001b[0;32m----> 1\u001b[0;31m \u001b[0mcrible\u001b[0m \u001b[0;34m=\u001b[0m \u001b[0meratosthene\u001b[0m\u001b[0;34m(\u001b[0m\u001b[0;36m10\u001b[0m\u001b[0;34m**\u001b[0m\u001b[0;36m7\u001b[0m\u001b[0;34m)\u001b[0m\u001b[0;34m\u001b[0m\u001b[0;34m\u001b[0m\u001b[0m\n\u001b[0m",
      "\u001b[0;31mNameError\u001b[0m: name 'eratosthene' is not defined"
     ]
    }
   ],
   "source": [
    "crible = eratosthene(10**7)"
   ]
  },
  {
   "cell_type": "code",
   "execution_count": 4,
   "metadata": {},
   "outputs": [
    {
     "ename": "NameError",
     "evalue": "name 'crible' is not defined",
     "output_type": "error",
     "traceback": [
      "\u001b[0;31m---------------------------------------------------------------------------\u001b[0m",
      "\u001b[0;31mNameError\u001b[0m                                 Traceback (most recent call last)",
      "\u001b[0;32m<ipython-input-4-6abf8a9d9052>\u001b[0m in \u001b[0;36m<module>\u001b[0;34m\u001b[0m\n\u001b[1;32m     25\u001b[0m \u001b[0;34m\u001b[0m\u001b[0m\n\u001b[1;32m     26\u001b[0m \u001b[0;32mfor\u001b[0m \u001b[0mn\u001b[0m \u001b[0;32min\u001b[0m \u001b[0mrange\u001b[0m\u001b[0;34m(\u001b[0m\u001b[0;36m1\u001b[0m\u001b[0;34m,\u001b[0m \u001b[0;36m10\u001b[0m\u001b[0;34m**\u001b[0m\u001b[0;36m7\u001b[0m\u001b[0;34m)\u001b[0m\u001b[0;34m:\u001b[0m\u001b[0;34m\u001b[0m\u001b[0;34m\u001b[0m\u001b[0m\n\u001b[0;32m---> 27\u001b[0;31m     \u001b[0;32massert\u001b[0m \u001b[0mest_premier_vD1\u001b[0m\u001b[0;34m(\u001b[0m\u001b[0mn\u001b[0m\u001b[0;34m)\u001b[0m \u001b[0;34m==\u001b[0m \u001b[0mcrible\u001b[0m\u001b[0;34m[\u001b[0m\u001b[0mn\u001b[0m\u001b[0;34m]\u001b[0m\u001b[0;34m,\u001b[0m \u001b[0;34mf\"Échec avec n = {n}\"\u001b[0m\u001b[0;34m\u001b[0m\u001b[0;34m\u001b[0m\u001b[0m\n\u001b[0m",
      "\u001b[0;31mNameError\u001b[0m: name 'crible' is not defined"
     ]
    }
   ],
   "source": [
    "def est_premier_vD1(n):\n",
    "    \"\"\"\n",
    "    Retourne la primalité de n\n",
    "    correct pour n < ?\n",
    "    \"\"\"\n",
    "    if n < 2: return False\n",
    "    if n < 4: return True\n",
    "    if (n % 2 == 0) or (n % 3 == 0): return False\n",
    "    if n < 5*5: return True # les composés inférieurs à 25 ont un facteur premier inférieur à 5, donc 2 ou 3, et ont déjà été traités\n",
    "    for p in [5, 7, 11, 13, 17, 19, 23]:\n",
    "        if n % p == 0: return False\n",
    "    if n < 29*29: return True # même remarque ; jusqu'à 841 !\n",
    "    for p in [29, 31, 37, 41, 43, 47, 53, 59, 61, 67, 71, 73, 79, 83, 89, 97, 101, 103, 107, 109, 113, 127, 131, 137, 139, 149, 151, 157, 163, 167, 173, 179, 181, 191, 193, 197, 199, 211, 223, 227, 229, 233, 239, 241, 251, 257, 263, 269]: #, 271, ...\n",
    "        if n % p == 0: return False\n",
    "    if n < 271*271: return True # même remarque jusqu'à 73441 !\n",
    "    # On commence le test de Fermat avec un unique témoin égal à 2, puis 2 et 3\n",
    "    if pow(2, n-1, n) != 1: return False\n",
    "    if n < 219781: return True\n",
    "    if pow(3, n-1, n) != 1: return False\n",
    "    if n < 226801: return True\n",
    "    if pow(5, n-1, n) != 1: return False\n",
    "    if n < 721801: return True\n",
    "    if pow(13, n-1, n) != 1: return False\n",
    "    return True\n",
    "\n",
    "for n in range(1, 10**7):\n",
    "    assert est_premier_vD1(n) == crible[n], f\"Échec avec n = {n}\""
   ]
  },
  {
   "cell_type": "code",
   "execution_count": null,
   "metadata": {},
   "outputs": [],
   "source": []
  }
 ],
 "metadata": {
  "kernelspec": {
   "display_name": "Python 3",
   "language": "python",
   "name": "python3"
  },
  "language_info": {
   "codemirror_mode": {
    "name": "ipython",
    "version": 3
   },
   "file_extension": ".py",
   "mimetype": "text/x-python",
   "name": "python",
   "nbconvert_exporter": "python",
   "pygments_lexer": "ipython3",
   "version": "3.7.5"
  }
 },
 "nbformat": 4,
 "nbformat_minor": 4
}
