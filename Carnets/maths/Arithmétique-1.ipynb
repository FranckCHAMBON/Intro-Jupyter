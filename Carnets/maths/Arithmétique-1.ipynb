{
 "cells": [
  {
   "cell_type": "markdown",
   "metadata": {},
   "source": [
    "# Arithmétique élémentaire\n",
    "\n",
    "Objectifs :\n",
    "- Étudier les algorithmes élémentaires sur les listes de diviseurs, test de primalité\n",
    "- Aborder la notion de complexité\n",
    "- Utiliser parfois les listes en compréhension\n",
    "- S'exercer avec le crible d'Ératosthène\n",
    "- S'exercer à la factorisation élémentaire\n",
    "- Évoquer les algorithmes de tests de primalité avancés\n",
    "- S'exercer sur la factorisation élémentaire\n",
    "- Travailler en utilisant des tests de primalité avancés\n",
    "\n",
    "---\n",
    "\n",
    "On note $\\mathbb N$ l'ensemble des entiers naturels : $\\{0, 1, 2, 3, 4, 5, \\cdots \\}$\n",
    "\n",
    "## Définitions\n",
    "\n",
    "**Multiple**\n",
    "> Un entier $n$ est un multiple de $k$, si il existe $d\\in \\mathbb N$ tel que $n = k\\times d$.\n",
    "> - Dans ce cas $n$ est un multiple de $k$ et $d$.\n",
    "> - Exemple 1 : $170 = 17\\times 10$, donc $170$ est un multiple de $17$ et de $10$.\n",
    "> - Exemple 2 : $0=17\\times 0$, donc $0$ est un multiple de $17$ et de $0$.\n",
    "\n",
    "On remarque que $0$ est un multiple de tout entier de manière évidente (on dit aussi de manière triviale).\n",
    "\n",
    "**Diviseur**\n",
    "> Si $n$ est un multiple de $k$, on dit aussi que $k$ est un diviseur de $n$.\n",
    "> - Exemple 1 : $17$ et $10$ sont des diviseurs de $170$, *mais pas les seuls*.\n",
    "> - Exemple 2 : $17$ et $0$ sont des diviseurs de $0$, oui !\n",
    "\n",
    "On remarque que tout entier est diviseur de $0$ de manière triviale.\n",
    "D'un autre côté l'équation $0 = a \\times b$ n'a aucune solution quand $a$ et $b$ sont des entiers non nuls.\n",
    "Par abus de langage, on dira que zéro n'a aucun diviseur, on devrait dire que zéro n'a aucun diviseur non trivial.\n",
    "\n",
    "> - Attention, cela ne veut pas dire qu'on a le droit de diviser par zéro.\n",
    "> - Dans les études supérieures, on apprend ce qu'est un anneau intègre (un anneau sans diviseurs de zéro), c'est à comprendre au sens de sans diviseurs non triviaux de zéro.\n",
    "\n",
    "**L'ensemble des diviseurs d'un entier**\n",
    "> Pour un entier non nul, il est clair qu'un diviseur $d$ de $n$ est un entier compris entre $1$ et $n$ ; l'ensemble des diviseurs d'un entier non nul est donc fini.\n",
    "\n",
    "Exemples :\n",
    "- L'ensemble des diviseurs de $0$ est $\\mathbb N$.  \n",
    "- L'ensemble des diviseurs de $1$ est $\\{1\\}$.\n",
    "- L'ensemble des diviseurs de $10$ est $\\{1, 2, 5, 10\\}$.\n",
    "- L'ensemble des diviseurs de $17$ est $\\{1, 17\\}$.\n",
    "\n",
    "\n",
    "**Nombre premier**\n",
    "> Un nombre premier est un nombre $p$ dont l'ensemble des diviseurs est $\\{1, p\\}$.\n",
    "\n",
    "La [liste des nombres premiers](https://oeis.org/A000040) commence par $[2, 3, 5, 7, 11, 13, 17, \\cdots]$\n",
    "\n",
    "---\n",
    "\n",
    "Dans la suite de ce carnet, $n$ désignera un entier non nul, ce qui permettra d'alléger les notations.\n",
    "\n",
    "$$n\\in\\mathbb N^*$$\n",
    "\n",
    "---"
   ]
  },
  {
   "cell_type": "markdown",
   "metadata": {},
   "source": [
    "## Obtenir la liste des diviseurs\n",
    "\n",
    "On peut programmer trois méthodes naïves assez facilement.\n",
    "\n",
    "### Méthode 1\n",
    "\n",
    "Une première méthode est de tester toutes les multiplications avec des facteurs compris entre $1$ et $n$.\n",
    "\n",
    "> On rappelle qu'en *Python*, si $i, j, k$ sont des entiers avec $j\\leqslant k$, alors  \n",
    ">`for i in range(j, k):` est une structure de boucle qui donne à $i$ les valeurs de $j$ inclus à $k$ exclu !\n",
    "> On a donc, on a $k-j$ tours de boucle.\n",
    "\n",
    "Commençons par construire l'ensemble des diviseurs, puis la liste."
   ]
  },
  {
   "cell_type": "code",
   "execution_count": 1,
   "metadata": {},
   "outputs": [
    {
     "name": "stdout",
     "output_type": "stream",
     "text": [
      "{1, 2, 34, 5, 170, 10, 17, 85}\n"
     ]
    }
   ],
   "source": [
    "n = 170 # nombre à modifier au choix dans ℕ˟\n",
    "ensemble_des_diviseurs_de_n = set() # un ensemble vide pour commencer\n",
    "for a in range(1, n+1):\n",
    "    for b in range(1, n+1):\n",
    "        if a * b == n:\n",
    "            # on ajoute (add) a et b à l'ensemble des diviseurs\n",
    "            ensemble_des_diviseurs_de_n.add(a)\n",
    "            ensemble_des_diviseurs_de_n.add(b)\n",
    "print(ensemble_des_diviseurs_de_n)"
   ]
  },
  {
   "cell_type": "markdown",
   "metadata": {},
   "source": [
    "On constate que les divieurs, bien qu'ajoutés plusieurs fois, ne sont présents qu'une seule fois dans le `set`, c'est normal.\n",
    "*Python* vérifie avant d'ajouter un objet dans un ensemble s'il est déjà présent. Ce n'est pas une liste !\n",
    "\n",
    "Pour obtenir la liste ordonnée des diviseurs, on peut utiliser le code suivant :"
   ]
  },
  {
   "cell_type": "code",
   "execution_count": 2,
   "metadata": {},
   "outputs": [
    {
     "name": "stdout",
     "output_type": "stream",
     "text": [
      "[1, 2, 5, 10, 17, 34, 85, 170]\n"
     ]
    }
   ],
   "source": [
    "liste_diviseurs = list(ensemble_des_diviseurs_de_n)  # on obtient une liste\n",
    "liste_diviseurs.sort()                               # on la trie en place\n",
    "print(liste_diviseurs)                               # on l'affiche"
   ]
  },
  {
   "cell_type": "markdown",
   "metadata": {},
   "source": [
    "Cette méthode est très lente, deux boucles imbriquées qui font $n$ tours chacune, donnent un total de $n^2$ tests réalisés à l'intérieur.\n",
    "**On dit que cette méthode est de complexité quadratique**, on note $\\Theta (n^2)$ (on dit : théta de $n$ carré).\n",
    "\n",
    "> Si on ne s'autorise qu'environ $10^8$ opérations élémentaires, on ne peut que donner la liste des diviseurs d'un entier inférieur à $10^4$.\n",
    "Peut-on faire mieux ?"
   ]
  },
  {
   "cell_type": "markdown",
   "metadata": {},
   "source": [
    "### Méthode 2\n",
    "\n",
    "En *Python*, il existe l'opérateur `%` (modulo) qui donne le reste dans la division euclidienne de deux entiers.\n",
    "\n",
    "`n % d == 0` signifie que le reste de la division euclidienne de $n$ par $d$ est nul, autrement dit que la division de $n$ par $d$ tombe juste, c'est à dire que $d$ est un diviseur de $n$.\n",
    "\n",
    "**Utilisation**, en construisant une fonction :"
   ]
  },
  {
   "cell_type": "code",
   "execution_count": 25,
   "metadata": {},
   "outputs": [
    {
     "name": "stdout",
     "output_type": "stream",
     "text": [
      "[1, 2, 5, 10, 17, 34, 85, 170]\n",
      "[1, 3, 9]\n"
     ]
    }
   ],
   "source": [
    "def diviseurs_v1(n):\n",
    "    \"Retourne la liste des diviseurs de l'entier naturel non nul : n\"\n",
    "    diviseurs_lst = [] # une liste vide\n",
    "    for d in range(1, n+1):\n",
    "        if n % d == 0:\n",
    "            diviseurs_lst.append(d)\n",
    "    return diviseurs_lst\n",
    "\n",
    "print(diviseurs_v1(170))\n",
    "print(diviseurs_v1(9))"
   ]
  },
  {
   "cell_type": "markdown",
   "metadata": {},
   "source": [
    "Remarque : on peut construire directement la liste par compréhension, c'est au programme de la spécialité maths en première."
   ]
  },
  {
   "cell_type": "code",
   "execution_count": 11,
   "metadata": {},
   "outputs": [
    {
     "name": "stdout",
     "output_type": "stream",
     "text": [
      "[1, 2, 5, 10, 17, 34, 85, 170]\n",
      "[1, 3, 9]\n"
     ]
    }
   ],
   "source": [
    "def diviseurs_v2(n):\n",
    "    \"Retourne la liste des diviseurs de l'entier naturel non nul : n\"\n",
    "    return [d for d in range(1, n+1) if n % d == 0]\n",
    "\n",
    "print(diviseurs_v2(170))\n",
    "print(diviseurs_v2(9))"
   ]
  },
  {
   "cell_type": "markdown",
   "metadata": {},
   "source": [
    "Cette méthode fait une seule boucle qui fait $n$ tours avec un nombre limité d'opérations. **On dit que cette méthode est de complexité linéaire**, on note $\\Theta(n)$.\n",
    "\n",
    "> Si on ne s'autorise qu'environ $10^8$ opérations élémentaires, on ne peut que donner la liste des diviseurs d'un entier inférieur à $10^8$.\n",
    "Peut-on faire mieux ?"
   ]
  },
  {
   "cell_type": "markdown",
   "metadata": {},
   "source": [
    "### Méthode 3\n",
    "On rappelle que $n$ désigne un entier non nul !\n",
    "\n",
    "#### Propriété 1\n",
    "> Si $k$ est un diviseur de $n$, alors $\\dfrac n k$ est aussi un diviseur de $n$.\n",
    "\n",
    "En *Python*, l'opérateur `//` donne le quotient dans la division euclidienne.\n",
    "\n",
    "#### Propriété 2\n",
    "> Si $n = d\\times k$, avec $d\\leqslant k$, alors $d\\times d \\leqslant k\\times d$, et donc $d^2 \\leqslant n$.\n",
    "\n",
    "Cela signifie qu'on peut rechercher les diviseurs par couple $(d, k)$, et que le plus petit $d$ vérifie $d^2 \\leqslant n$.\n"
   ]
  },
  {
   "cell_type": "code",
   "execution_count": 18,
   "metadata": {},
   "outputs": [
    {
     "name": "stdout",
     "output_type": "stream",
     "text": [
      "[1, 2, 5, 10, 17, 34, 85, 170]\n",
      "[1, 3, 9]\n"
     ]
    }
   ],
   "source": [
    "def diviseurs(n):\n",
    "    \"Retourne la liste des diviseurs de l'entier naturel non nul : n\"\n",
    "    diviseurs_ens = set() # un ensemble vide\n",
    "    d = 1\n",
    "    while d*d <= n:\n",
    "        if n % d == 0:\n",
    "            diviseurs_ens.add(d)\n",
    "            diviseurs_ens.add(n//d)\n",
    "        d = d + 1\n",
    "    diviseurs_lst = list(diviseurs_ens)\n",
    "    diviseurs_lst.sort()\n",
    "    return diviseurs_lst\n",
    "print(diviseurs(170))\n",
    "print(diviseurs(9))"
   ]
  },
  {
   "cell_type": "markdown",
   "metadata": {},
   "source": [
    "Cette méthode fait une seule boucle qui fait environ $\\sqrt n$ tours avec un nombre limité d'opérations. **On dit que cette méthode est de complexité racinaire**, on note $\\Theta\\left(\\sqrt n\\right)$.\n",
    "\n",
    "> Si on ne s'autorise qu'environ $10^8$ opérations élémentaires, on ne peut que donner la liste des diviseurs d'un entier inférieur à $10^{16}$.\n",
    "Peut-on faire mieux ?\n",
    "\n",
    "Oui, on peut faire mieux. Cependant les méthodes individuelles sont plus complexes et reposent souvent essentiellement sur la décomposition en facteurs premiers. On peut aussi utiliser des méthodes de crible pour déterminer de manière globale la liste des diviseurs de tous les entiers dans un intervalle, plutôt que de répéter une méthode individuelle.\n",
    "\n",
    "Avant de travailler sur les algorithmes de factorisation, il vaut mieux d'abord travailler sur les algorithmes de test de primalité.\n",
    "\n",
    "Avant de passer à la partie suivante, un exercice à faire pour vérifier que tout est assimilé."
   ]
  },
  {
   "cell_type": "markdown",
   "metadata": {},
   "source": [
    "#### Exercice : pure liste des diviseurs\n",
    "Reprendre la fonction `diviseurs` et ne travailler qu'avec des listes, ne pas utiliser d'ensemble.\n",
    "\n",
    "Modifier le code de la fonction ci-dessous, lancer-le jusqu'à ne plus obtenir le message d'erreur."
   ]
  },
  {
   "cell_type": "code",
   "execution_count": 24,
   "metadata": {},
   "outputs": [
    {
     "ename": "AssertionError",
     "evalue": "Échec au test pour n = 1",
     "output_type": "error",
     "traceback": [
      "\u001b[0;31m---------------------------------------------------------------------------\u001b[0m",
      "\u001b[0;31mAssertionError\u001b[0m                            Traceback (most recent call last)",
      "\u001b[0;32m<ipython-input-24-03e6246ab10d>\u001b[0m in \u001b[0;36m<module>\u001b[0;34m\u001b[0m\n\u001b[1;32m      8\u001b[0m \u001b[0;31m# TESTS\u001b[0m\u001b[0;34m\u001b[0m\u001b[0;34m\u001b[0m\u001b[0;34m\u001b[0m\u001b[0m\n\u001b[1;32m      9\u001b[0m \u001b[0;32mfor\u001b[0m \u001b[0mn\u001b[0m \u001b[0;32min\u001b[0m \u001b[0mrange\u001b[0m\u001b[0;34m(\u001b[0m\u001b[0;36m1\u001b[0m\u001b[0;34m,\u001b[0m \u001b[0;36m100\u001b[0m\u001b[0;34m)\u001b[0m\u001b[0;34m:\u001b[0m\u001b[0;34m\u001b[0m\u001b[0;34m\u001b[0m\u001b[0m\n\u001b[0;32m---> 10\u001b[0;31m     \u001b[0;32massert\u001b[0m \u001b[0mdiviseurs\u001b[0m\u001b[0;34m(\u001b[0m\u001b[0mn\u001b[0m\u001b[0;34m)\u001b[0m \u001b[0;34m==\u001b[0m \u001b[0mdiviseurs_perso\u001b[0m\u001b[0;34m(\u001b[0m\u001b[0mn\u001b[0m\u001b[0;34m)\u001b[0m\u001b[0;34m,\u001b[0m \u001b[0;34mf\"Échec au test pour n = {n}\"\u001b[0m\u001b[0;34m\u001b[0m\u001b[0;34m\u001b[0m\u001b[0m\n\u001b[0m",
      "\u001b[0;31mAssertionError\u001b[0m: Échec au test pour n = 1"
     ]
    }
   ],
   "source": [
    "def diviseurs_perso(n):\n",
    "    \"votre docstring à écrire ici\"\n",
    "    diviseurs_lst = []\n",
    "    # À compléter vous même\n",
    "    #...\n",
    "    #...\n",
    "    return diviseurs_lst\n",
    "\n",
    "###########################\n",
    "# TESTS à ne pas modifier #\n",
    "for n in range(1, 100):\n",
    "    assert diviseurs(n) == diviseurs_perso(n), f\"Échec au test pour n = {n}\"\n",
    "print(\"Bravo ! Tests réussis !\")\n",
    "# Fin des TESTS           #\n",
    "###########################"
   ]
  },
  {
   "cell_type": "markdown",
   "metadata": {},
   "source": [
    "## Test de primalité\n",
    "\n",
    "D'après la définition, on peut directement écrire notre premier test de primalité en complexité quadratique :"
   ]
  },
  {
   "cell_type": "code",
   "execution_count": 22,
   "metadata": {},
   "outputs": [
    {
     "name": "stdout",
     "output_type": "stream",
     "text": [
      "Les nombres premiers jusqu'à 100 sont :\n",
      "2, 3, 5, 7, 11, 13, 17, 19, 23, 29, 31, 37, 41, 43, 47, 53, 59, 61, 67, 71, 73, 79, 83, 89, 97, \n",
      "\n",
      "Les nombres premiers à 10 chiffres commencent par :\n",
      "1000000007, 1000000009, 1000000021, 1000000033, 1000000087, "
     ]
    }
   ],
   "source": [
    "def est_premier_v1(n):\n",
    "    \"Retourne True si n est premier, False sinon\"\n",
    "    return diviseurs(n) == [1, n]\n",
    "\n",
    "limite = 100\n",
    "print(f\"Les nombres premiers jusqu'à {limite} sont :\")\n",
    "for n in range(1, 100):\n",
    "    if est_premier_v1(n):\n",
    "        print(n, end=\", \")\n",
    "\n",
    "\n",
    "print()\n",
    "print()\n",
    "print(\"Les nombres premiers à 10 chiffres commencent par :\")\n",
    "n = 10**9\n",
    "cpt = 5\n",
    "while cpt > 0:\n",
    "    n = n + 1\n",
    "    if est_premier_v1(n):\n",
    "        print(n, end=\", \")\n",
    "        cpt = cpt - 1\n",
    "\n",
    "    "
   ]
  },
  {
   "cell_type": "markdown",
   "metadata": {},
   "source": [
    "**[Histoire](https://fr.wikipedia.org/wiki/Plus_grand_nombre_premier_connu#Histoire)** : En 1750, [Leonhard Euler](https://fr.wikipedia.org/wiki/Leonhard_Euler) est le premier à avoir déterminer, un nombre premier à 10 chiffres."
   ]
  },
  {
   "cell_type": "markdown",
   "metadata": {},
   "source": [
    "### Critique de cette méthode\n",
    "Cette méthode est en complexité racinaire pour toute valeur entrée, ce qui signifie qu'on va avoir, par exemple, une boucle d'environ $\\sqrt{10^9}$ tours pour, au final, affirmer que $10^9$ n'est pas premier. On peut faire mieux !\n",
    "\n"
   ]
  },
  {
   "cell_type": "code",
   "execution_count": 23,
   "metadata": {},
   "outputs": [
    {
     "name": "stdout",
     "output_type": "stream",
     "text": [
      "Test réussi\n"
     ]
    }
   ],
   "source": [
    "def est_premier(n):\n",
    "    if n < 2:\n",
    "        return False\n",
    "    d = 2\n",
    "    while d*d <= n:\n",
    "        if n % d == 0:\n",
    "            return False\n",
    "        d = d + 1\n",
    "    return True\n",
    "\n",
    "for n in range(1, 1000):\n",
    "    assert est_premier(n) == est_premier_v1(n), f\"Échec pour n = {n}\"\n",
    "print(\"Test réussi\")"
   ]
  },
  {
   "cell_type": "markdown",
   "metadata": {},
   "source": [
    "Ici, on ne construit pas la liste des diviseurs, on se contente de vérifier qu'il n'y en a pas d'autres que les diviseurs triviaux.\n",
    "- Pour $n=10^9$, la fonction fait un seul tour de boucle avant de retourner `False`.\n",
    "- Pour $n=10^9+1$, la fonction fait 6 tours de boucle avant de retourner `False`, $7$ étant un diviseur.\n",
    "- Pour $n=10^9+7$, la fonction fait environ $\\sqrt n$ tours de boucle avant de retourner `True`. Comme à chaque fois que $n$ est premier.\n",
    "\n",
    "Cette méthode est donc plus rapide, souvent, mais pas **dans le pire des cas où elle reste en complexité racinaire**, on note $\\mathcal O\\left(\\sqrt n\\right)$.\n",
    "\n",
    "Cette méthode reste individuelle, et on peut faire mieux lorsqu'on souhaite obtenir la primalité d'entiers dans un intervalle. Voyons la méthode incontournable."
   ]
  },
  {
   "cell_type": "markdown",
   "metadata": {},
   "source": [
    "### Le crible d'Ératosthène\n",
    "Le crible d'Ératosthène permet d'**obtenir la liste de tous les nombres premiers** jusqu'à une certaine limite.\n",
    "\n",
    "- $0$ et $1$ ne sont ni premiers, ni composés. *Remarque : le status pour $1$ a varié au cours du temps.*\n",
    "- Un entier supérieur à $1$ est soit premier, soit composé.\n",
    "- Un entier composé $n$ s'écrit $d\\times k$ avec $d, k$ entiers et $1<d\\leqskant k<n$.\n",
    "\n",
    "Le crible d'Ératosthène marque $0$, $1$ et tous les nombres composés, ne laissant non marqués que les nombres premiers.\n",
    "\n",
    "#### Propriété 3\n",
    "Si $n>1$ alors $n$ possède au moins un diviseur distinct de $1$,\n",
    "et le plus petit d'entre eux est premier.\n",
    "> **Preuve** : Soit $p$ le plus petit diviseur distinct de $1$, s'il est composé, il s'écrit $k\\times d$ avec $d, k$ entiers et $1<d\\leqskant k<n$, or $d$ est aussi un diviseur distinct de $1$ qui contredit la minimalité de $p$. Ainsi $p$ est premier.\n",
    "\n",
    "#### Propriété 4\n",
    "Si $n>1$ est composé, soit $p$ le plus petit diviseur de $n$ distinct de $1$,\n",
    "- $p$ est premier (*propriété 3*)\n",
    "- $p^2 \\leqslant n$\n",
    "\n",
    "On en déduit que tous les entiers composés inférieurs à $n$ possèdent un diviseur premier inférieur à $\\sqrt n$.\n",
    "\n",
    "> Cette propriété est fondamentale et trop souvent oubliée !\n",
    "\n",
    "#### Animation du crible\n",
    "\n",
    "![crible animé d'Ératosthène](assets/crible.gif)\n",
    "*Source* : [Wikipedia](https://fr.wikipedia.org/wiki/Crible_d%27%C3%89ratosth%C3%A8ne)\n",
    "\n",
    "Une fois les multiples de $2$ marqués, on marque les multiples de $3$, puis de $5$, puis de $7$. Il est inutile de marquer les multiples de $11$ en vertue de la propriété 4 ; $11^2 = 121 > 120$.\n",
    "\n",
    "Quand on commence à marquer les multiples de $p$ premier, il suffit de commencer à $p^2$, en effet tous les nombres composés inférieurs à $p^2$  ont déjà été marqués ; ils possèdent un diviseur premier inférieur à $p$, toujours en vertue de la propriété 4."
   ]
  },
  {
   "cell_type": "markdown",
   "metadata": {},
   "source": [
    "#### Motivation\n",
    "> Cette méthode, le crible d'Ératosthène, possède une bonne complexité, et sa simplicité lui permet de nombreuses variations et optimisations. En pratique cette méthode est plus rapide que d'autres cribles, plus complexes, ayant une meilleure complexité théorique.\n",
    "Cette méthode est aussi une base de réflexion pour construire d'autres cribles : **on peut parfois construire globalement un tableau de valeurs** d'une fonction sur un intervalle, plutôt que de calculer individuellement chaque valeur."
   ]
  },
  {
   "cell_type": "markdown",
   "metadata": {},
   "source": [
    "#### Complexité du crible\n",
    "**Uniquement compréhensible en post-bac**\n",
    "\n",
    "Le nombre d'opérations élémentaires pour faire ce crible pour les entiers inférieurs à $n$ est :\n",
    "$$\\sum_{p=2}^{\\sqrt n} \\frac {n-p^2} p \\sim \\int_{2}^{\\sqrt n} \\frac {n-x^2}x \\mathrm{d}x \\sim n\\log(n)$$\n",
    "Elle est quasi-linéaire en temps : $\\Theta\\left(n \\log(n)\\right)$, et linéaire en espace."
   ]
  },
  {
   "cell_type": "markdown",
   "metadata": {},
   "source": [
    "#### Comprendre le code ci-dessous\n",
    "- On donne la *docstring*.\n",
    "- On initialise une liste de booléens (crible), on fait comme si tous les entiers étaient premiers (True).\n",
    "- On marque $0$ et $1$ comme non premiers (False).\n",
    "- On fait une boucle pour $p$ partant de $2$, en incrémentant $p$ de $1$ à chaque tour :\n",
    "    - si $p$ est premier, alors on va marquer tous les entiers $k$ multiples de $p$ à partir de $2p$ comme non premiers.\n",
    "    - `range(p*p, borne, p)` donne exactement les multiples de p allant de $p^2$ inclus, jusqu'à la borne exclue.\n",
    "- Quand $p^2 \\geqslant \\textrm{borne}$, on est sûr d'avoir marqué tous les composés ; d'après la propriété 4."
   ]
  },
  {
   "cell_type": "code",
   "execution_count": 34,
   "metadata": {},
   "outputs": [
    {
     "name": "stdout",
     "output_type": "stream",
     "text": [
      "Test réussis\n",
      "\n",
      "La liste des nombres premiers inférieurs à 100 :\n",
      "[2, 3, 5, 7, 11, 13, 17, 19, 23, 29, 31, 37, 41, 43, 47, 53, 59, 61, 67, 71, 73, 79, 83, 89, 97]\n"
     ]
    }
   ],
   "source": [
    "def eratosthene(borne):\n",
    "    \"\"\"\n",
    "    Retourne le crible des nombres premiers inférieurs à borne.\n",
    "    crible[n] vaut True ou False, suivant que n est premier ou non.\n",
    "    \"\"\"\n",
    "    crible = [True] * borne\n",
    "    if borne > 0:\n",
    "        crible[0] = False\n",
    "    if borne > 1:\n",
    "        crible[1] = False\n",
    "    p = 2\n",
    "    while p * p < borne:\n",
    "        if crible[p]:\n",
    "            for k in range(2*p, borne, p):\n",
    "                crible[k] = False\n",
    "        p = p + 1\n",
    "    return crible\n",
    "\n",
    "# TEST\n",
    "for borne in range(1000):\n",
    "    crible = eratosthene(borne)\n",
    "    for n in range(1, borne):\n",
    "        assert crible[n] == est_premier(n), f\"Échec du test pour borne = {borne}, et n = {n}\"\n",
    "print(\"Test réussis\")\n",
    "print()\n",
    "borne = 100 # à modifier un peu si vous voulez\n",
    "print(f\"La liste des nombres premiers inférieurs à {borne} :\")\n",
    "crible = eratosthene(borne)\n",
    "print([p for p in range(borne) if crible[p]])\n"
   ]
  },
  {
   "cell_type": "markdown",
   "metadata": {},
   "source": [
    "#### Exercice : crible de la somme des diviseurs\n",
    "Écrire un code qui calcule la somme de tous les diviseurs de tous les entiers $n$ inférieurs à une borne.\n",
    "- Compléter le code ci-dessous.\n",
    "- Lancer-le !\n",
    "- Vérifier votre résulat avec la seconde partie test.\n",
    "- Déterminer (si possible) la complexité de votre code."
   ]
  },
  {
   "cell_type": "code",
   "execution_count": null,
   "metadata": {},
   "outputs": [],
   "source": [
    "borne = 100\n",
    "somme_diviseurs = [0] * borne\n",
    "# À compléter ci-dessous\n",
    "#...\n",
    "#...\n"
   ]
  },
  {
   "cell_type": "code",
   "execution_count": null,
   "metadata": {},
   "outputs": [],
   "source": [
    "# TESTS ! À ne pas modifier\n",
    "for n in range(1, borne):\n",
    "    assert somme_diviseurs[n] == sum(diviseurs(n)), f\"Échec pour n = {n}\"\n",
    "print(\"Test réussi !\")"
   ]
  },
  {
   "cell_type": "markdown",
   "metadata": {},
   "source": [
    "#### Test de primalité avec le crible\n",
    "Une fois le `crible` déterminé, pour savoir si un nombre $n$ est premier, il suffit de lire `crible[n]`. C'est immédiat.\n",
    "\n",
    "La complexité est alors constante par requête, on note $\\Theta(1)$.\n",
    "\n",
    "#### Optimisations du code *Python*\n",
    "Uniquement pour les **utilisateurs très avancés**.\n",
    "- On utilisera plutôt le type `bytearray` que `list` d'entiers ; le gain de place (donc de temps) est conséquent !\n",
    "- On peut ne faire le crible que sur les entiers impairs. $2$ étant le seul entier premier pair. Le gain de place est d'un facteur $2$.\n",
    "- On peut aussi ne travailler que sur les entiers $n\\equiv \\pm1 \\mod 6$ ; $2$ et $3$ étant les seuls hors de ce champs. C'est au prix d'un code bien plus complexe, qui n'est pas toujours plus rapide en pratique.\n",
    "- Il y a encore de très nombreuses possibilités, et c'est un [excellent exercice](https://www.spoj.com/problems/FRANCKY/) pour apprendre à maîtriser la programmation impérative."
   ]
  },
  {
   "cell_type": "markdown",
   "metadata": {},
   "source": [
    "## Factorisation\n"
   ]
  }
 ],
 "metadata": {
  "kernelspec": {
   "display_name": "Python 3",
   "language": "python",
   "name": "python3"
  },
  "language_info": {
   "codemirror_mode": {
    "name": "ipython",
    "version": 3
   },
   "file_extension": ".py",
   "mimetype": "text/x-python",
   "name": "python",
   "nbconvert_exporter": "python",
   "pygments_lexer": "ipython3",
   "version": "3.7.5"
  }
 },
 "nbformat": 4,
 "nbformat_minor": 4
}
