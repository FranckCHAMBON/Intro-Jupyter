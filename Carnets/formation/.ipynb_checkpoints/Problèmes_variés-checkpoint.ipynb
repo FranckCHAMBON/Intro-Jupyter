{
 "cells": [
  {
   "cell_type": "markdown",
   "metadata": {},
   "source": [
    "# Le partage du savoir\n",
    "> « Le savoir, n’est-ce pas, est un bien précieux.  \n",
    "> Trop précieux pour ne pas être partagé ! »  \n",
    "> *Battologio d’Épanalepse*  \n",
    "![savoir_partage](assets/savoir_partage.jpg)  \n",
    "**De Cape et de Crocs** (Ayroles & Masbou), *tome vii, 14, 5*  "
   ]
  },
  {
   "cell_type": "markdown",
   "metadata": {},
   "source": [
    "## Un problème de physique : la fonte des glaces\n",
    "L'objectif étant davantage de produire un code *Python*, on ne cherchera pas ici à résoudre théoriquement la question ; même si c'est possible.\n",
    "\n",
    "* Un cube de glace de $1~\\text{m}^3$ est en train de fondre,\n",
    "* chaque minuscule goutte d'eau pure tombe dans un récipient de $1~\\text{m}^3$\n",
    "* initialement rempli d'eau salée à la concentration de $1~\\%$.\n",
    "* La goutte est immédiatement diluée et le récipient déborde d'autant.\n",
    "\n",
    "1. Quelle est la concentration de sel à la fin de la fonte des glaces ?\n",
    "2. Construire quelques paragraphes en *Markdown* pour :\n",
    "    1. présenter votre solution,\n",
    "    1. avec des graphiques,\n",
    "    2. avec un meilleur énoncé ; mieux présenté.\n"
   ]
  },
  {
   "cell_type": "markdown",
   "metadata": {},
   "source": [
    "## Des constructions graphiques\n",
    "\n",
    "<img src=\"assets/TheBranche.jpg\" title=\"G.E.B. A Mantal Space Odyssey\" style=\"height: 200px;\"/>\n",
    "\n",
    "Dans une [ancienne présentation de Python](../../Vieux-trucs/initPython3.pdf), vers la fin on trouve de beaux exercices de constructions géométriques."
   ]
  },
  {
   "cell_type": "markdown",
   "metadata": {},
   "source": [
    "## Project Euler\n",
    "Le site [Project Euler](https://projecteuler.net/archives) propose des problèmes de difficulté croissante, les premiers sont plutôt abordables.\n",
    "\n",
    "Voici une traduction en français des [50 premiers problèmes](../../Vieux-trucs/ProjectEuler.pdf), accompagnés de leur solution.\n",
    "\n",
    "Choisir un problème, et construire deux carnets Jupyter, un pour l'énoncé, l'autre pour une solution détaillée au niveau souhaité."
   ]
  },
  {
   "cell_type": "markdown",
   "metadata": {},
   "source": [
    "## Faire travailler les automatismes\n",
    "Des exemples (pour les maths) de carnets utiles à créer :\n",
    "1. Fabriquer une fonction `hypothénuse(a, b, A=\"A\", B=\"B\", C=\"C\")` qui retourne un texte rigoureux, le calcul de l'hypoténuse pour deux côtés de l'angle droit donnés.\n",
    "2. Fabriquer une fonction `cathète` similaire pour un côté de l'angle droit.\n",
    "3. Fabriquer une fonction `pythagore_démo(a, b, c, A=\"A\", B=\"B\", C=\"C\")` qui retourne un texte, la démonstration que $ABC$ (ou autre) est rectangle (ou non), suivant $a, b, c$.\n",
    "4. De manière similaire `thales` et `test_thales` qui retourne un texte en *Markdown*.\n",
    "5. Fabriquer une fonction `détaille_somme(a, b, c, d)` qui retourne un texte qui détaille le calcul de $\\dfrac a b + \\dfrac c d$ ; avec les simplifications éventuelles.\n",
    "6. Fabriquer une fonction `détaille_produit(a, b, c, d)` pour $\\dfrac a b \\times \\dfrac c d$.\n",
    "7. On pourra s'inspirer de [Pyromaths](https://enligne.pyromaths.org/) pour en fabriquer d'autres.\n",
    "\n",
    "> Pour les autres sciences, de nombreux automatismes sont sujets à création de carnets."
   ]
  },
  {
   "cell_type": "markdown",
   "metadata": {},
   "source": [
    "En guise d'exemple, voici une proposition pour fabriquer une fonction `factorise_trinome(a, b, c)` qui retourne un texte au sujet de $ax^2+bx+c$."
   ]
  },
  {
   "cell_type": "code",
   "execution_count": 12,
   "metadata": {},
   "outputs": [],
   "source": [
    "def factorise_trinome(a, b, c):\n",
    "    \"Retourne le détail de la factorisation de ax² + bx + c\"\n",
    "    assert a != 0, \"`a` doit être différent de zéro.\"\n",
    "    delta = b * b  -  4 * a * c\n",
    "    if delta < 0:\n",
    "        ans  = f\"Le discrimant est delta = {delta} < 0\\n\"\n",
    "        ans += f\"Le trinôme `{a}x² + {b}x + {c}` n'a pas de racines réelles.\"\n",
    "        return ans\n",
    "    elif delta == 0:\n",
    "        bêta = -b / (2 * a)\n",
    "        ans  = f\"Le discrimant est delta = 0\\n\"\n",
    "        ans += f\"Le trinôme `{a}x² + {b}x + {c}` possède une racine double, en `x = {bêta}`.\\n\"\n",
    "        ans += f\"Il se factorise en `{a}(x - {bêta})²`.\"\n",
    "        return ans\n",
    "    else:\n",
    "        ans  = f\"Le discrimant est delta = {delta} > 0\\n\"\n",
    "        ans += f\"Le trinôme `{a}x² + {b}x + {c}` possède deux racines réelles.\\n\"\n",
    "        ans += f\"Il se factorise en `{a} (x - ({-b} - sqrt({delta}))/({2*a})) (x - ({-b} + sqrt({delta}))/({2*a}))`.\"\n",
    "        return ans"
   ]
  },
  {
   "cell_type": "code",
   "execution_count": 13,
   "metadata": {},
   "outputs": [
    {
     "name": "stdout",
     "output_type": "stream",
     "text": [
      "Le discrimant est delta = 109 > 0\n",
      "Le trinôme `3x² + 5x + -7` possède deux racines réelles.\n",
      "Il se factorise en `3 (x - (-5 - sqrt(109))/(6)) (x - (-5 + sqrt(109))/(6))`.\n"
     ]
    }
   ],
   "source": [
    "print(factorise_trinome(3, 5, -7))"
   ]
  },
  {
   "cell_type": "markdown",
   "metadata": {},
   "source": [
    "Critiques :\n",
    "* Ce script ne fait aucune simplification,\n",
    "* il ne gère pas les racines qui sont entières,\n",
    "* il ne gère pas les écritures du genre `+ -7`,\n",
    "* la sortie texte pourrait être en LaTeX...\n",
    "* Bientôt la version 2 !"
   ]
  },
  {
   "cell_type": "code",
   "execution_count": null,
   "metadata": {},
   "outputs": [],
   "source": []
  }
 ],
 "metadata": {
  "kernelspec": {
   "display_name": "Python 3",
   "language": "python",
   "name": "python3"
  },
  "language_info": {
   "codemirror_mode": {
    "name": "ipython",
    "version": 3
   },
   "file_extension": ".py",
   "mimetype": "text/x-python",
   "name": "python",
   "nbconvert_exporter": "python",
   "pygments_lexer": "ipython3",
   "version": "3.7.5"
  }
 },
 "nbformat": 4,
 "nbformat_minor": 4
}
