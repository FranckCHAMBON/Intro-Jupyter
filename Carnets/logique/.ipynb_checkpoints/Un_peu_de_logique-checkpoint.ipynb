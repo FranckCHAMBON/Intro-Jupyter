{
 "cells": [
  {
   "cell_type": "markdown",
   "metadata": {},
   "source": [
    "# Un peu de logique\n",
    "\n",
    "## Quelques premières fonctions\n"
   ]
  },
  {
   "cell_type": "code",
   "execution_count": 1,
   "metadata": {},
   "outputs": [],
   "source": [
    "def f1(x):\n",
    "    while x > 0:\n",
    "        x = x - 1\n",
    "    return x"
   ]
  },
  {
   "cell_type": "markdown",
   "metadata": {},
   "source": [
    "Que se passe-t-il lors des appels suivants ?\n",
    "* `f1(+17.3)`\n",
    "* `f1(-5.2)`\n",
    "* `f1(\"boucle\")`"
   ]
  },
  {
   "cell_type": "code",
   "execution_count": 2,
   "metadata": {},
   "outputs": [],
   "source": [
    "def f2(x):\n",
    "    while x > 0:\n",
    "        x = x + 1\n",
    "    return x"
   ]
  },
  {
   "cell_type": "markdown",
   "metadata": {},
   "source": [
    "Que se passe-t-il lors des appels suivants ?\n",
    "* `f2(+17.3)`\n",
    "* `f2(-5.2)`\n",
    "* `f2(\"boucle\")`"
   ]
  },
  {
   "cell_type": "code",
   "execution_count": null,
   "metadata": {},
   "outputs": [],
   "source": [
    "def f3(x):\n",
    "    x = 1 / x\n",
    "    while True:\n",
    "        x = x + 1\n",
    "    return x"
   ]
  },
  {
   "cell_type": "markdown",
   "metadata": {},
   "source": [
    "Que se passe-t-il lors des appels suivants ?\n",
    "* `f3(+17.3)`\n",
    "* `f3(-5.2)`\n",
    "* `f3(\"boucle\")`"
   ]
  },
  {
   "cell_type": "code",
   "execution_count": 3,
   "metadata": {},
   "outputs": [],
   "source": [
    "def f4(x):\n",
    "    return \"boucle\""
   ]
  },
  {
   "cell_type": "markdown",
   "metadata": {},
   "source": [
    "Que se passe-t-il lors des appels suivants ?\n",
    "* `f4(+17.3)`\n",
    "* `f4(-5.2)`\n",
    "* `f4(\"boucle\")`"
   ]
  },
  {
   "cell_type": "code",
   "execution_count": null,
   "metadata": {},
   "outputs": [],
   "source": [
    "def f5(x):\n",
    "    while True:\n",
    "        pass"
   ]
  },
  {
   "cell_type": "markdown",
   "metadata": {},
   "source": [
    "Que se passe-t-il lors des appels suivants ?\n",
    "* `f5(+17.3)`\n",
    "* `f5(-5.2)`\n",
    "* `f5(\"boucle\")`"
   ]
  },
  {
   "cell_type": "markdown",
   "metadata": {},
   "source": [
    "## Une tentative de fonction d'arrêt\n",
    "\n",
    "On considère la fonction:"
   ]
  },
  {
   "cell_type": "code",
   "execution_count": null,
   "metadata": {},
   "outputs": [],
   "source": [
    "def passur(f, x):\n",
    "    if \"while True\" in f:\n",
    "        return True\n",
    "    else:\n",
    "        return False"
   ]
  },
  {
   "cell_type": "markdown",
   "metadata": {},
   "source": [
    "À quoi s'attendre, en fonction de `x`, avec les appels suivants ?\n",
    "* `passur(f1, x)`\n",
    "* `passur(f2, x)`\n",
    "* `passur(f3, x)`\n",
    "* `passur(f4, x)`\n",
    "* `passur(passur, x)`\n",
    "\n",
    "*On considèrera qu'une fonction est assimilée au texte de son code source.*"
   ]
  },
  {
   "cell_type": "markdown",
   "metadata": {},
   "source": [
    "## Existence d'une fonction d'arrêt ?\n",
    "\n",
    "On suppose qu'il existe une fonction *Python* qui peut déterminer (en temps fini) si une fonction `f` évaluée en `x` s'arrête ou non. En bref, une fonction un peu plus élaborée que `passur` qui n'était pas crédible...\n",
    "> `arrêt(f, x)` : retourne `True` si `f` s'arrête avec `x` en paramètre ; `False` sinon."
   ]
  },
  {
   "cell_type": "markdown",
   "metadata": {},
   "source": [
    "### Exemples\n",
    "Par exemple, on a : `arrêt(f1, +17.3)` qui retourne `True`.\n",
    "> Reprendre les questions précédentes sous cet angle."
   ]
  },
  {
   "cell_type": "markdown",
   "metadata": {},
   "source": [
    "### Le drâme\n",
    "On considère la fonction joueuse suivante :"
   ]
  },
  {
   "cell_type": "code",
   "execution_count": 1,
   "metadata": {},
   "outputs": [],
   "source": [
    "def P(f):\n",
    "    if arrêt(f, f):\n",
    "        while True:\n",
    "            pass\n",
    "    else:\n",
    "        return 0"
   ]
  },
  {
   "cell_type": "markdown",
   "metadata": {},
   "source": [
    "1. Que produit `P(f4)` ?\n",
    "2. Que produit `P(f5)` ?\n",
    "3. Que produit `P(P)` ? Êtes-vous sûr ? Certain ? Mais ... c'est le drâme !\n",
    "\n",
    "> Il se produit un problème similaire :\n",
    "> + si on considère $A = \\{X \\text{ tel que } X \\not\\subset X\\}$, l'ensemble de tous les ensembles qui ne se contiennent pas eux-mêmes.\n",
    "> + si on considère le [paradoxe du barbier](https://fr.wikipedia.org/wiki/Paradoxe_du_barbier).\n",
    "> + si on considère $\\mathbb R$ dénombrable et [l'argument diagonal de Cantor](https://fr.wikipedia.org/wiki/Argument_de_la_diagonale_de_Cantor)."
   ]
  },
  {
   "cell_type": "code",
   "execution_count": 1,
   "metadata": {},
   "outputs": [
    {
     "name": "stdout",
     "output_type": "stream",
     "text": [
      "[None, 1, [2, 3], [...]]\n",
      "True\n"
     ]
    }
   ],
   "source": [
    "# Remarque : ce code Python est valide\n",
    "A = [None, 1, [2, 3]]\n",
    "A.append(A)\n",
    "print(A)\n",
    "print(A in A)"
   ]
  },
  {
   "cell_type": "markdown",
   "metadata": {},
   "source": [
    "### Conclusion\n",
    "\n",
    "Aucune fonction `arrêt(f, x)` pouvant toujours déterminer l'arrêt de `f` en `x` en temps fini n'existe."
   ]
  },
  {
   "cell_type": "markdown",
   "metadata": {},
   "source": [
    "## Problèmes indécidables : réduction\n",
    "*(Questions directement issues du DIU EIL - Aix-Marseille)*\n",
    "\n",
    "Étant données deux fonctions Python `f` et `g` et un objet `x`, on dit que `f` et `g` coïncident en `x` si :\n",
    "- ou bien les expressions `f(x)` et `g(x)` s’évaluent en le même résultat (au sens où, par exemple, `f(x) == g(x)` s’évalue en `True`) ;\n",
    "- ou bien ni `f(x)` ni `g(x)` ne produisent un résultat (ça boucle indéfiniment).\n",
    "\n",
    "**Question 1** Supposons qu’on vous donne une fonction *Python* `cestpareil` telle que `cestpareil(f, g, x)` renvoie `True` si `f` et `g` coïncident en `x` et `False` sinon.\n",
    "\n",
    "À l’aide de `cestpareil`, définissez une fonction qui résout le problème de l’arrêt. Déduisez-en que le problème consistant à savoir si deux fonctions *Python* coïncident en une certaine valeur n’est pas décidable.\n",
    "\n",
    "**Question 2** On dit que `f` est totale si `f(x)` s’évalue toujours en un objet. Montrez qu’il n’y a pas de fonction *Python* qui décide si une fonction est totale.\n",
    "\n",
    "Ces résultats se généralisent : toute propriété non triviale qui concerne la fonction (au sens mathématique) calculée par une machine de Turing (ou un programme *Python*) est indécidable. C’est le théorème de Rice.\n",
    "\n",
    "**Question 3** Fixons une fonction Python `f`. On dit que `g` implémente `f` si pour tout objet `x`, `f` et `g` coïncident en `x`. Montrez qu’il n’y a pas de fonction *Python* qui décide si une fonction `g` implémente `f`.\n",
    "+ On pourra commencer en ayant fixé `f` comme étant la fonction constante égale à 0 : `lambda x: 0`.\n",
    "+ On pourra ensuite considérer une fonction `f` totale.\n",
    "+ On pourra enfin tenter le cas général."
   ]
  },
  {
   "cell_type": "code",
   "execution_count": null,
   "metadata": {},
   "outputs": [],
   "source": []
  }
 ],
 "metadata": {
  "kernelspec": {
   "display_name": "Python 3",
   "language": "python",
   "name": "python3"
  },
  "language_info": {
   "codemirror_mode": {
    "name": "ipython",
    "version": 3
   },
   "file_extension": ".py",
   "mimetype": "text/x-python",
   "name": "python",
   "nbconvert_exporter": "python",
   "pygments_lexer": "ipython3",
   "version": "3.7.5"
  }
 },
 "nbformat": 4,
 "nbformat_minor": 4
}
