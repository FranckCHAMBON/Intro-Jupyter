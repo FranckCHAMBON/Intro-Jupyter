{
 "cells": [
  {
   "cell_type": "markdown",
   "metadata": {},
   "source": [
    "# Sommaire\n",
    "\n",
    "- Un carnet sur [les nombres de Mersenne](Nombre_de_Mersenne_premier.ipynb) ; pour découvrir l'arithmétique avec *Python*.\n",
    "- Un carnet [sur les tests de primalité et la factorisation](Arithmétique-1.ipynb) ; méthodes élémentaires.\n",
    "- Un carnet [sur les tests de primalité et la factorisation](Arithmétique-2.ipynb) ; méthodes avancées.\n"
   ]
  }
 ],
 "metadata": {
  "kernelspec": {
   "display_name": "Python 3",
   "language": "python",
   "name": "python3"
  },
  "language_info": {
   "codemirror_mode": {
    "name": "ipython",
    "version": 3
   },
   "file_extension": ".py",
   "mimetype": "text/x-python",
   "name": "python",
   "nbconvert_exporter": "python",
   "pygments_lexer": "ipython3",
   "version": "3.7.5"
  }
 },
 "nbformat": 4,
 "nbformat_minor": 4
}
