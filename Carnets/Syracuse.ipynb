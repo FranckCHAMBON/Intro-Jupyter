{
 "cells": [
  {
   "cell_type": "markdown",
   "metadata": {},
   "source": [
    "# La suite de Syracuse\n",
    "## Définition\n",
    "Les suites de Syracuse sont définies par un premier terme $U_0$ et la relation de récurrence :\n",
    "\n",
    "$$U_{n+1} = \\frac{U_n}2 \\textrm{~si~} U_n \\textrm{~est pair,~} 3U_n + 1 \\textrm{~sinon~}$$"
   ]
  },
  {
   "cell_type": "code",
   "execution_count": 3,
   "metadata": {
    "collapsed": false,
    "jupyter": {
     "outputs_hidden": false
    }
   },
   "outputs": [
    {
     "name": "stdout",
     "output_type": "stream",
     "text": [
      "121, 364, 182, 91, 274, 137, 412, 206, 103, 310, 155, 466, 233, 700, 350, 175, 526, 263, 790, 395, 1186, 593, 1780, 890, 445, 1336, 668, 334, 167, 502, 251, 754, 377, 1132, 566, 283, 850, 425, 1276, 638, 319, 958, 479, 1438, 719, 2158, 1079, 3238, 1619, 4858, 2429, 7288, 3644, 1822, 911, 2734, 1367, 4102, 2051, 6154, 3077, 9232, 4616, 2308, 1154, 577, 1732, 866, 433, 1300, 650, 325, 976, 488, 244, 122, 61, 184, 92, 46, 23, 70, 35, 106, 53, 160, 80, 40, 20, 10, 5, 16, 8, 4, 2, 1, 4, 2, 1, 4, "
     ]
    }
   ],
   "source": [
    "def suivant(U):\n",
    "    if U%2 == 0:\n",
    "        return U//2\n",
    "    else:\n",
    "        return 3*U + 1\n",
    "\n",
    "U = 121\n",
    "for i in range(100):\n",
    "    print(U, end=\", \")\n",
    "    U = suivant(U)"
   ]
  },
  {
   "cell_type": "markdown",
   "metadata": {},
   "source": [
    "On constate que la suite boucle avec $[4, 2, 1]$.\n",
    "\n",
    "On pourrait faire le même constat avec d'autres valeurs de départ ; même aucune preuve n'a été trouvée !\n",
    "\n",
    "On définit alors le temps de vol comme la longueur de la suite jusqu'à la première valeur de $1$, et l'altitude maximale comme la valeur maximale atteinte par la suite."
   ]
  },
  {
   "cell_type": "code",
   "execution_count": 10,
   "metadata": {
    "cocalc": {
     "outputs": {
      "0": {
       "name": "input",
       "opts": {
        "password": false,
        "prompt": "Donner un terme initial"
       },
       "output_type": "stream",
       "value": "9876543210"
      }
     }
    },
    "collapsed": false,
    "jupyter": {
     "outputs_hidden": false
    }
   },
   "outputs": [
    {
     "name": "stdout",
     "output_type": "stream",
     "text": [
      "Donner un terme initial 9876543210Le temps de vol est : 218\n",
      "L'altitude maximale est 14814814816\n"
     ]
    }
   ],
   "source": [
    "def suite(U_0):\n",
    "    U_liste = [U_0]\n",
    "    U_n = U_0\n",
    "    while U_n != 1:\n",
    "        U_n = suivant(U_n)\n",
    "        U_liste.append(U_n)\n",
    "    return U_liste\n",
    "\n",
    "U_0 = int(input(\"Donner un terme initial\"))\n",
    "U_liste = suite(U_0)\n",
    "print(\"Le temps de vol est :\", len(U_liste))\n",
    "print(\"L'altitude maximale est\", max(U_liste))"
   ]
  },
  {
   "cell_type": "code",
   "execution_count": 11,
   "metadata": {
    "collapsed": false,
    "jupyter": {
     "outputs_hidden": false
    }
   },
   "outputs": [
    {
     "name": "stdout",
     "output_type": "stream",
     "text": [
      "nouveau record : temps de vol 1 pour U0 = 1\n",
      "nouveau record : altitude 1 pour U0 = 1\n",
      "nouveau record : temps de vol 2 pour U0 = 2\n",
      "nouveau record : altitude 2 pour U0 = 2\n",
      "nouveau record : temps de vol 8 pour U0 = 3\n",
      "nouveau record : altitude 16 pour U0 = 3\n",
      "nouveau record : temps de vol 9 pour U0 = 6\n",
      "nouveau record : temps de vol 17 pour U0 = 7\n",
      "nouveau record : altitude 52 pour U0 = 7\n",
      "nouveau record : temps de vol 20 pour U0 = 9\n",
      "nouveau record : altitude 160 pour U0 = 15\n",
      "nouveau record : temps de vol 21 pour U0 = 18\n",
      "nouveau record : temps de vol 24 pour U0 = 25\n",
      "nouveau record : temps de vol 112 pour U0 = 27\n",
      "nouveau record : altitude 9232 pour U0 = 27\n",
      "nouveau record : temps de vol 113 pour U0 = 54\n",
      "nouveau record : temps de vol 116 pour U0 = 73\n",
      "nouveau record : temps de vol 119 pour U0 = 97\n",
      "nouveau record : temps de vol 122 pour U0 = 129\n",
      "nouveau record : temps de vol 125 pour U0 = 171\n",
      "nouveau record : temps de vol 128 pour U0 = 231\n",
      "nouveau record : altitude 13120 pour U0 = 255\n",
      "nouveau record : temps de vol 131 pour U0 = 313\n",
      "nouveau record : temps de vol 144 pour U0 = 327\n",
      "nouveau record : altitude 39364 pour U0 = 447\n",
      "nouveau record : altitude 41524 pour U0 = 639\n",
      "nouveau record : temps de vol 145 pour U0 = 649\n",
      "nouveau record : temps de vol 171 pour U0 = 703\n",
      "nouveau record : altitude 250504 pour U0 = 703\n",
      "nouveau record : temps de vol 179 pour U0 = 871\n",
      "nouveau record : temps de vol 182 pour U0 = 1161\n",
      "nouveau record : altitude 1276936 pour U0 = 1819\n",
      "nouveau record : temps de vol 183 pour U0 = 2223\n",
      "nouveau record : temps de vol 209 pour U0 = 2463\n",
      "nouveau record : temps de vol 217 pour U0 = 2919\n",
      "nouveau record : temps de vol 238 pour U0 = 3711\n",
      "nouveau record : altitude 6810136 pour U0 = 4255\n",
      "nouveau record : altitude 8153620 pour U0 = 4591\n",
      "nouveau record : temps de vol 262 pour U0 = 6171\n",
      "nouveau record : altitude 27114424 pour U0 = 9663\n"
     ]
    }
   ],
   "source": [
    "t_vol_max = 0\n",
    "alt_max = 0\n",
    "for U_0 in range(1, 10000):\n",
    "    U_liste = suite(U_0)\n",
    "    t_vol = len(U_liste)\n",
    "    alt = max(U_liste)\n",
    "    if t_vol > t_vol_max:\n",
    "        t_vol_max = t_vol\n",
    "        print(\"nouveau record : temps de vol\", t_vol, \"pour U0 =\", U_0)\n",
    "    if alt > alt_max:\n",
    "        alt_max = alt\n",
    "        print(\"nouveau record : altitude\", alt, \"pour U0 =\", U_0)\n",
    "        \n",
    "    "
   ]
  },
  {
   "cell_type": "code",
   "execution_count": null,
   "metadata": {
    "collapsed": false,
    "jupyter": {
     "outputs_hidden": false
    }
   },
   "outputs": [],
   "source": []
  }
 ],
 "metadata": {
  "kernelspec": {
   "display_name": "Python 3",
   "language": "python",
   "name": "python3"
  },
  "language_info": {
   "codemirror_mode": {
    "name": "ipython",
    "version": 3
   },
   "file_extension": ".py",
   "mimetype": "text/x-python",
   "name": "python",
   "nbconvert_exporter": "python",
   "pygments_lexer": "ipython3",
   "version": "3.7.5"
  }
 },
 "nbformat": 4,
 "nbformat_minor": 4
}
